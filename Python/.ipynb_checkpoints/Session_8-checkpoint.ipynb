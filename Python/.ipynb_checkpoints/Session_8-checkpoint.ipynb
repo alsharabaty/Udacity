{
  "nbformat": 4,
  "nbformat_minor": 0,
  "metadata": {
    "colab": {
      "provenance": []
    },
    "kernelspec": {
      "name": "python3",
      "display_name": "Python 3"
    },
    "language_info": {
      "name": "python"
    }
  },
  "cells": [
    {
      "cell_type": "code",
      "execution_count": 1,
      "metadata": {
        "id": "OqV_sGJP0CQH"
      },
      "outputs": [],
      "source": [
        "# Importing Libraries\n",
        "# NumPy is for numerical operations, and Pandas is for data manipulation\n",
        "import numpy as np\n",
        "import pandas as pd"
      ]
    },
    {
      "cell_type": "code",
      "source": [
        "# 1. NumPy Basics\n",
        "# ##############################\n",
        "# Introduction to NumPy arrays and basic operations\n",
        "print(\"## NumPy Basics ##\\n\")\n",
        "\n",
        "# Create a 1D NumPy array\n",
        "array_1d = np.array([10, 20, 30, 40, 50])  # Array of numbers\n",
        "print(\"1D Array:\")\n",
        "print(array_1d)\n",
        "\n",
        "# Create a 2D NumPy array\n",
        "array_2d = np.array([[1, 2, 3], [4, 5, 6]])  # 2x3 matrix\n",
        "print(\"\\n2D Array:\")\n",
        "print(array_2d)\n",
        "\n",
        "\n",
        "# Sum all elements in a 1D array\n",
        "print(\"\\nSum of array_1d:\", np.sum(array_1d))\n",
        "\n",
        "# Calculate the mean of a 2D array\n",
        "print(\"Mean of array_2d:\", np.mean(array_2d))\n",
        "\n",
        "# Element-wise multiplication of a 2D array\n",
        "print(\"\\nElement-wise multiplication (array_2d * 2):\")\n",
        "print(array_2d * 2)\n"
      ],
      "metadata": {
        "colab": {
          "base_uri": "https://localhost:8080/"
        },
        "id": "Rqowy1eN0S_a",
        "outputId": "6e2cbb50-ceed-4b94-a0f8-96123ecbc28d"
      },
      "execution_count": 2,
      "outputs": [
        {
          "output_type": "stream",
          "name": "stdout",
          "text": [
            "## NumPy Basics ##\n",
            "\n",
            "1D Array:\n",
            "[10 20 30 40 50]\n",
            "\n",
            "2D Array:\n",
            "[[1 2 3]\n",
            " [4 5 6]]\n",
            "\n",
            "Sum of array_1d: 150\n",
            "Mean of array_2d: 3.5\n",
            "\n",
            "Element-wise multiplication (array_2d * 2):\n",
            "[[ 2  4  6]\n",
            " [ 8 10 12]]\n"
          ]
        }
      ]
    },
    {
      "cell_type": "code",
      "source": [
        "print(f\"Index 0: {array_1d[0]}, Index1: {array_1d[1]}\")"
      ],
      "metadata": {
        "colab": {
          "base_uri": "https://localhost:8080/"
        },
        "id": "QjZxvtppmVsP",
        "outputId": "89223958-1746-4031-fbdf-340fddfe62e6"
      },
      "execution_count": 3,
      "outputs": [
        {
          "output_type": "stream",
          "name": "stdout",
          "text": [
            "Index 0: 10, Index1: 20\n"
          ]
        }
      ]
    },
    {
      "cell_type": "code",
      "source": [
        "print(f\"First two elements:{array_1d[:2]}\")"
      ],
      "metadata": {
        "colab": {
          "base_uri": "https://localhost:8080/"
        },
        "id": "CY8t9QEc6Yi8",
        "outputId": "94425f42-9e2d-449c-fa38-b0cfd99ebfb1"
      },
      "execution_count": 4,
      "outputs": [
        {
          "output_type": "stream",
          "name": "stdout",
          "text": [
            "First two elements:[10 20]\n"
          ]
        }
      ]
    },
    {
      "cell_type": "code",
      "source": [
        "# Accessing specific elements\n",
        "# Accessing rows, columns, and slicing\n",
        "print(\"\\nAccessing first two elements of 1D array:\", array_1d[:2])\n",
        "print(\"Accessing first row of 2D array:\", array_2d[0, :])  # First row\n",
        "\n",
        "# Generate random numbers\n",
        "random_array = np.random.rand(3, 3)  # Random 3x3 matrix\n",
        "print(\"\\nRandom Array (3x3):\")\n",
        "print(random_array)\n"
      ],
      "metadata": {
        "colab": {
          "base_uri": "https://localhost:8080/"
        },
        "id": "ENJ-n3nb0Z7W",
        "outputId": "cebbb586-1325-44ba-8524-8bd4baee02a8"
      },
      "execution_count": 5,
      "outputs": [
        {
          "output_type": "stream",
          "name": "stdout",
          "text": [
            "\n",
            "Accessing first two elements of 1D array: [10 20]\n",
            "Accessing first row of 2D array: [1 2 3]\n",
            "\n",
            "Random Array (3x3):\n",
            "[[0.43603142 0.62153886 0.07725686]\n",
            " [0.67786025 0.38074518 0.11572098]\n",
            " [0.10222159 0.3321191  0.75711342]]\n"
          ]
        }
      ]
    },
    {
      "cell_type": "code",
      "source": [
        "# ##############################\n",
        "# 2. Pandas Basics\n",
        "# ##############################\n",
        "# Introduction to Pandas DataFrame and Series, loading data from a URL\n",
        "\n",
        "print(\"\\n\\n## Pandas Basics ##\\n\")\n",
        "\n",
        "# Load a public dataset from a URL\n",
        "# Example: Titanic dataset from a GitHub link\n",
        "url = \"https://raw.githubusercontent.com/datasciencedojo/datasets/master/titanic.csv\"\n",
        "df = pd.read_csv(url)  # Read the CSV file into a DataFrame\n"
      ],
      "metadata": {
        "colab": {
          "base_uri": "https://localhost:8080/"
        },
        "id": "qMUdi7Xa0f_S",
        "outputId": "b42bdd49-7ad2-4f26-fc31-9e1ec7767fb4"
      },
      "execution_count": 6,
      "outputs": [
        {
          "output_type": "stream",
          "name": "stdout",
          "text": [
            "\n",
            "\n",
            "## Pandas Basics ##\n",
            "\n"
          ]
        }
      ]
    },
    {
      "cell_type": "code",
      "source": [
        "df.head()"
      ],
      "metadata": {
        "colab": {
          "base_uri": "https://localhost:8080/",
          "height": 206
        },
        "id": "RYtIl6AK7sOc",
        "outputId": "357c1c92-f3c3-4215-ec9e-a441818d4d2d"
      },
      "execution_count": 7,
      "outputs": [
        {
          "output_type": "execute_result",
          "data": {
            "text/plain": [
              "   PassengerId  Survived  Pclass  \\\n",
              "0            1         0       3   \n",
              "1            2         1       1   \n",
              "2            3         1       3   \n",
              "3            4         1       1   \n",
              "4            5         0       3   \n",
              "\n",
              "                                                Name     Sex   Age  SibSp  \\\n",
              "0                            Braund, Mr. Owen Harris    male  22.0      1   \n",
              "1  Cumings, Mrs. John Bradley (Florence Briggs Th...  female  38.0      1   \n",
              "2                             Heikkinen, Miss. Laina  female  26.0      0   \n",
              "3       Futrelle, Mrs. Jacques Heath (Lily May Peel)  female  35.0      1   \n",
              "4                           Allen, Mr. William Henry    male  35.0      0   \n",
              "\n",
              "   Parch            Ticket     Fare Cabin Embarked  \n",
              "0      0         A/5 21171   7.2500   NaN        S  \n",
              "1      0          PC 17599  71.2833   C85        C  \n",
              "2      0  STON/O2. 3101282   7.9250   NaN        S  \n",
              "3      0            113803  53.1000  C123        S  \n",
              "4      0            373450   8.0500   NaN        S  "
            ],
            "text/html": [
              "\n",
              "  <div id=\"df-74cc3390-7538-40ad-9b7c-7a43bed77e3c\" class=\"colab-df-container\">\n",
              "    <div>\n",
              "<style scoped>\n",
              "    .dataframe tbody tr th:only-of-type {\n",
              "        vertical-align: middle;\n",
              "    }\n",
              "\n",
              "    .dataframe tbody tr th {\n",
              "        vertical-align: top;\n",
              "    }\n",
              "\n",
              "    .dataframe thead th {\n",
              "        text-align: right;\n",
              "    }\n",
              "</style>\n",
              "<table border=\"1\" class=\"dataframe\">\n",
              "  <thead>\n",
              "    <tr style=\"text-align: right;\">\n",
              "      <th></th>\n",
              "      <th>PassengerId</th>\n",
              "      <th>Survived</th>\n",
              "      <th>Pclass</th>\n",
              "      <th>Name</th>\n",
              "      <th>Sex</th>\n",
              "      <th>Age</th>\n",
              "      <th>SibSp</th>\n",
              "      <th>Parch</th>\n",
              "      <th>Ticket</th>\n",
              "      <th>Fare</th>\n",
              "      <th>Cabin</th>\n",
              "      <th>Embarked</th>\n",
              "    </tr>\n",
              "  </thead>\n",
              "  <tbody>\n",
              "    <tr>\n",
              "      <th>0</th>\n",
              "      <td>1</td>\n",
              "      <td>0</td>\n",
              "      <td>3</td>\n",
              "      <td>Braund, Mr. Owen Harris</td>\n",
              "      <td>male</td>\n",
              "      <td>22.0</td>\n",
              "      <td>1</td>\n",
              "      <td>0</td>\n",
              "      <td>A/5 21171</td>\n",
              "      <td>7.2500</td>\n",
              "      <td>NaN</td>\n",
              "      <td>S</td>\n",
              "    </tr>\n",
              "    <tr>\n",
              "      <th>1</th>\n",
              "      <td>2</td>\n",
              "      <td>1</td>\n",
              "      <td>1</td>\n",
              "      <td>Cumings, Mrs. John Bradley (Florence Briggs Th...</td>\n",
              "      <td>female</td>\n",
              "      <td>38.0</td>\n",
              "      <td>1</td>\n",
              "      <td>0</td>\n",
              "      <td>PC 17599</td>\n",
              "      <td>71.2833</td>\n",
              "      <td>C85</td>\n",
              "      <td>C</td>\n",
              "    </tr>\n",
              "    <tr>\n",
              "      <th>2</th>\n",
              "      <td>3</td>\n",
              "      <td>1</td>\n",
              "      <td>3</td>\n",
              "      <td>Heikkinen, Miss. Laina</td>\n",
              "      <td>female</td>\n",
              "      <td>26.0</td>\n",
              "      <td>0</td>\n",
              "      <td>0</td>\n",
              "      <td>STON/O2. 3101282</td>\n",
              "      <td>7.9250</td>\n",
              "      <td>NaN</td>\n",
              "      <td>S</td>\n",
              "    </tr>\n",
              "    <tr>\n",
              "      <th>3</th>\n",
              "      <td>4</td>\n",
              "      <td>1</td>\n",
              "      <td>1</td>\n",
              "      <td>Futrelle, Mrs. Jacques Heath (Lily May Peel)</td>\n",
              "      <td>female</td>\n",
              "      <td>35.0</td>\n",
              "      <td>1</td>\n",
              "      <td>0</td>\n",
              "      <td>113803</td>\n",
              "      <td>53.1000</td>\n",
              "      <td>C123</td>\n",
              "      <td>S</td>\n",
              "    </tr>\n",
              "    <tr>\n",
              "      <th>4</th>\n",
              "      <td>5</td>\n",
              "      <td>0</td>\n",
              "      <td>3</td>\n",
              "      <td>Allen, Mr. William Henry</td>\n",
              "      <td>male</td>\n",
              "      <td>35.0</td>\n",
              "      <td>0</td>\n",
              "      <td>0</td>\n",
              "      <td>373450</td>\n",
              "      <td>8.0500</td>\n",
              "      <td>NaN</td>\n",
              "      <td>S</td>\n",
              "    </tr>\n",
              "  </tbody>\n",
              "</table>\n",
              "</div>\n",
              "    <div class=\"colab-df-buttons\">\n",
              "\n",
              "  <div class=\"colab-df-container\">\n",
              "    <button class=\"colab-df-convert\" onclick=\"convertToInteractive('df-74cc3390-7538-40ad-9b7c-7a43bed77e3c')\"\n",
              "            title=\"Convert this dataframe to an interactive table.\"\n",
              "            style=\"display:none;\">\n",
              "\n",
              "  <svg xmlns=\"http://www.w3.org/2000/svg\" height=\"24px\" viewBox=\"0 -960 960 960\">\n",
              "    <path d=\"M120-120v-720h720v720H120Zm60-500h600v-160H180v160Zm220 220h160v-160H400v160Zm0 220h160v-160H400v160ZM180-400h160v-160H180v160Zm440 0h160v-160H620v160ZM180-180h160v-160H180v160Zm440 0h160v-160H620v160Z\"/>\n",
              "  </svg>\n",
              "    </button>\n",
              "\n",
              "  <style>\n",
              "    .colab-df-container {\n",
              "      display:flex;\n",
              "      gap: 12px;\n",
              "    }\n",
              "\n",
              "    .colab-df-convert {\n",
              "      background-color: #E8F0FE;\n",
              "      border: none;\n",
              "      border-radius: 50%;\n",
              "      cursor: pointer;\n",
              "      display: none;\n",
              "      fill: #1967D2;\n",
              "      height: 32px;\n",
              "      padding: 0 0 0 0;\n",
              "      width: 32px;\n",
              "    }\n",
              "\n",
              "    .colab-df-convert:hover {\n",
              "      background-color: #E2EBFA;\n",
              "      box-shadow: 0px 1px 2px rgba(60, 64, 67, 0.3), 0px 1px 3px 1px rgba(60, 64, 67, 0.15);\n",
              "      fill: #174EA6;\n",
              "    }\n",
              "\n",
              "    .colab-df-buttons div {\n",
              "      margin-bottom: 4px;\n",
              "    }\n",
              "\n",
              "    [theme=dark] .colab-df-convert {\n",
              "      background-color: #3B4455;\n",
              "      fill: #D2E3FC;\n",
              "    }\n",
              "\n",
              "    [theme=dark] .colab-df-convert:hover {\n",
              "      background-color: #434B5C;\n",
              "      box-shadow: 0px 1px 3px 1px rgba(0, 0, 0, 0.15);\n",
              "      filter: drop-shadow(0px 1px 2px rgba(0, 0, 0, 0.3));\n",
              "      fill: #FFFFFF;\n",
              "    }\n",
              "  </style>\n",
              "\n",
              "    <script>\n",
              "      const buttonEl =\n",
              "        document.querySelector('#df-74cc3390-7538-40ad-9b7c-7a43bed77e3c button.colab-df-convert');\n",
              "      buttonEl.style.display =\n",
              "        google.colab.kernel.accessAllowed ? 'block' : 'none';\n",
              "\n",
              "      async function convertToInteractive(key) {\n",
              "        const element = document.querySelector('#df-74cc3390-7538-40ad-9b7c-7a43bed77e3c');\n",
              "        const dataTable =\n",
              "          await google.colab.kernel.invokeFunction('convertToInteractive',\n",
              "                                                    [key], {});\n",
              "        if (!dataTable) return;\n",
              "\n",
              "        const docLinkHtml = 'Like what you see? Visit the ' +\n",
              "          '<a target=\"_blank\" href=https://colab.research.google.com/notebooks/data_table.ipynb>data table notebook</a>'\n",
              "          + ' to learn more about interactive tables.';\n",
              "        element.innerHTML = '';\n",
              "        dataTable['output_type'] = 'display_data';\n",
              "        await google.colab.output.renderOutput(dataTable, element);\n",
              "        const docLink = document.createElement('div');\n",
              "        docLink.innerHTML = docLinkHtml;\n",
              "        element.appendChild(docLink);\n",
              "      }\n",
              "    </script>\n",
              "  </div>\n",
              "\n",
              "\n",
              "<div id=\"df-ec1d4935-f4d5-42da-84bd-0b1c7f92b955\">\n",
              "  <button class=\"colab-df-quickchart\" onclick=\"quickchart('df-ec1d4935-f4d5-42da-84bd-0b1c7f92b955')\"\n",
              "            title=\"Suggest charts\"\n",
              "            style=\"display:none;\">\n",
              "\n",
              "<svg xmlns=\"http://www.w3.org/2000/svg\" height=\"24px\"viewBox=\"0 0 24 24\"\n",
              "     width=\"24px\">\n",
              "    <g>\n",
              "        <path d=\"M19 3H5c-1.1 0-2 .9-2 2v14c0 1.1.9 2 2 2h14c1.1 0 2-.9 2-2V5c0-1.1-.9-2-2-2zM9 17H7v-7h2v7zm4 0h-2V7h2v10zm4 0h-2v-4h2v4z\"/>\n",
              "    </g>\n",
              "</svg>\n",
              "  </button>\n",
              "\n",
              "<style>\n",
              "  .colab-df-quickchart {\n",
              "      --bg-color: #E8F0FE;\n",
              "      --fill-color: #1967D2;\n",
              "      --hover-bg-color: #E2EBFA;\n",
              "      --hover-fill-color: #174EA6;\n",
              "      --disabled-fill-color: #AAA;\n",
              "      --disabled-bg-color: #DDD;\n",
              "  }\n",
              "\n",
              "  [theme=dark] .colab-df-quickchart {\n",
              "      --bg-color: #3B4455;\n",
              "      --fill-color: #D2E3FC;\n",
              "      --hover-bg-color: #434B5C;\n",
              "      --hover-fill-color: #FFFFFF;\n",
              "      --disabled-bg-color: #3B4455;\n",
              "      --disabled-fill-color: #666;\n",
              "  }\n",
              "\n",
              "  .colab-df-quickchart {\n",
              "    background-color: var(--bg-color);\n",
              "    border: none;\n",
              "    border-radius: 50%;\n",
              "    cursor: pointer;\n",
              "    display: none;\n",
              "    fill: var(--fill-color);\n",
              "    height: 32px;\n",
              "    padding: 0;\n",
              "    width: 32px;\n",
              "  }\n",
              "\n",
              "  .colab-df-quickchart:hover {\n",
              "    background-color: var(--hover-bg-color);\n",
              "    box-shadow: 0 1px 2px rgba(60, 64, 67, 0.3), 0 1px 3px 1px rgba(60, 64, 67, 0.15);\n",
              "    fill: var(--button-hover-fill-color);\n",
              "  }\n",
              "\n",
              "  .colab-df-quickchart-complete:disabled,\n",
              "  .colab-df-quickchart-complete:disabled:hover {\n",
              "    background-color: var(--disabled-bg-color);\n",
              "    fill: var(--disabled-fill-color);\n",
              "    box-shadow: none;\n",
              "  }\n",
              "\n",
              "  .colab-df-spinner {\n",
              "    border: 2px solid var(--fill-color);\n",
              "    border-color: transparent;\n",
              "    border-bottom-color: var(--fill-color);\n",
              "    animation:\n",
              "      spin 1s steps(1) infinite;\n",
              "  }\n",
              "\n",
              "  @keyframes spin {\n",
              "    0% {\n",
              "      border-color: transparent;\n",
              "      border-bottom-color: var(--fill-color);\n",
              "      border-left-color: var(--fill-color);\n",
              "    }\n",
              "    20% {\n",
              "      border-color: transparent;\n",
              "      border-left-color: var(--fill-color);\n",
              "      border-top-color: var(--fill-color);\n",
              "    }\n",
              "    30% {\n",
              "      border-color: transparent;\n",
              "      border-left-color: var(--fill-color);\n",
              "      border-top-color: var(--fill-color);\n",
              "      border-right-color: var(--fill-color);\n",
              "    }\n",
              "    40% {\n",
              "      border-color: transparent;\n",
              "      border-right-color: var(--fill-color);\n",
              "      border-top-color: var(--fill-color);\n",
              "    }\n",
              "    60% {\n",
              "      border-color: transparent;\n",
              "      border-right-color: var(--fill-color);\n",
              "    }\n",
              "    80% {\n",
              "      border-color: transparent;\n",
              "      border-right-color: var(--fill-color);\n",
              "      border-bottom-color: var(--fill-color);\n",
              "    }\n",
              "    90% {\n",
              "      border-color: transparent;\n",
              "      border-bottom-color: var(--fill-color);\n",
              "    }\n",
              "  }\n",
              "</style>\n",
              "\n",
              "  <script>\n",
              "    async function quickchart(key) {\n",
              "      const quickchartButtonEl =\n",
              "        document.querySelector('#' + key + ' button');\n",
              "      quickchartButtonEl.disabled = true;  // To prevent multiple clicks.\n",
              "      quickchartButtonEl.classList.add('colab-df-spinner');\n",
              "      try {\n",
              "        const charts = await google.colab.kernel.invokeFunction(\n",
              "            'suggestCharts', [key], {});\n",
              "      } catch (error) {\n",
              "        console.error('Error during call to suggestCharts:', error);\n",
              "      }\n",
              "      quickchartButtonEl.classList.remove('colab-df-spinner');\n",
              "      quickchartButtonEl.classList.add('colab-df-quickchart-complete');\n",
              "    }\n",
              "    (() => {\n",
              "      let quickchartButtonEl =\n",
              "        document.querySelector('#df-ec1d4935-f4d5-42da-84bd-0b1c7f92b955 button');\n",
              "      quickchartButtonEl.style.display =\n",
              "        google.colab.kernel.accessAllowed ? 'block' : 'none';\n",
              "    })();\n",
              "  </script>\n",
              "</div>\n",
              "\n",
              "    </div>\n",
              "  </div>\n"
            ],
            "application/vnd.google.colaboratory.intrinsic+json": {
              "type": "dataframe",
              "variable_name": "df",
              "summary": "{\n  \"name\": \"df\",\n  \"rows\": 891,\n  \"fields\": [\n    {\n      \"column\": \"PassengerId\",\n      \"properties\": {\n        \"dtype\": \"number\",\n        \"std\": 257,\n        \"min\": 1,\n        \"max\": 891,\n        \"num_unique_values\": 891,\n        \"samples\": [\n          710,\n          440,\n          841\n        ],\n        \"semantic_type\": \"\",\n        \"description\": \"\"\n      }\n    },\n    {\n      \"column\": \"Survived\",\n      \"properties\": {\n        \"dtype\": \"number\",\n        \"std\": 0,\n        \"min\": 0,\n        \"max\": 1,\n        \"num_unique_values\": 2,\n        \"samples\": [\n          1,\n          0\n        ],\n        \"semantic_type\": \"\",\n        \"description\": \"\"\n      }\n    },\n    {\n      \"column\": \"Pclass\",\n      \"properties\": {\n        \"dtype\": \"number\",\n        \"std\": 0,\n        \"min\": 1,\n        \"max\": 3,\n        \"num_unique_values\": 3,\n        \"samples\": [\n          3,\n          1\n        ],\n        \"semantic_type\": \"\",\n        \"description\": \"\"\n      }\n    },\n    {\n      \"column\": \"Name\",\n      \"properties\": {\n        \"dtype\": \"string\",\n        \"num_unique_values\": 891,\n        \"samples\": [\n          \"Moubarek, Master. Halim Gonios (\\\"William George\\\")\",\n          \"Kvillner, Mr. Johan Henrik Johannesson\"\n        ],\n        \"semantic_type\": \"\",\n        \"description\": \"\"\n      }\n    },\n    {\n      \"column\": \"Sex\",\n      \"properties\": {\n        \"dtype\": \"category\",\n        \"num_unique_values\": 2,\n        \"samples\": [\n          \"female\",\n          \"male\"\n        ],\n        \"semantic_type\": \"\",\n        \"description\": \"\"\n      }\n    },\n    {\n      \"column\": \"Age\",\n      \"properties\": {\n        \"dtype\": \"number\",\n        \"std\": 14.526497332334044,\n        \"min\": 0.42,\n        \"max\": 80.0,\n        \"num_unique_values\": 88,\n        \"samples\": [\n          0.75,\n          22.0\n        ],\n        \"semantic_type\": \"\",\n        \"description\": \"\"\n      }\n    },\n    {\n      \"column\": \"SibSp\",\n      \"properties\": {\n        \"dtype\": \"number\",\n        \"std\": 1,\n        \"min\": 0,\n        \"max\": 8,\n        \"num_unique_values\": 7,\n        \"samples\": [\n          1,\n          0\n        ],\n        \"semantic_type\": \"\",\n        \"description\": \"\"\n      }\n    },\n    {\n      \"column\": \"Parch\",\n      \"properties\": {\n        \"dtype\": \"number\",\n        \"std\": 0,\n        \"min\": 0,\n        \"max\": 6,\n        \"num_unique_values\": 7,\n        \"samples\": [\n          0,\n          1\n        ],\n        \"semantic_type\": \"\",\n        \"description\": \"\"\n      }\n    },\n    {\n      \"column\": \"Ticket\",\n      \"properties\": {\n        \"dtype\": \"string\",\n        \"num_unique_values\": 681,\n        \"samples\": [\n          \"11774\",\n          \"248740\"\n        ],\n        \"semantic_type\": \"\",\n        \"description\": \"\"\n      }\n    },\n    {\n      \"column\": \"Fare\",\n      \"properties\": {\n        \"dtype\": \"number\",\n        \"std\": 49.693428597180905,\n        \"min\": 0.0,\n        \"max\": 512.3292,\n        \"num_unique_values\": 248,\n        \"samples\": [\n          11.2417,\n          51.8625\n        ],\n        \"semantic_type\": \"\",\n        \"description\": \"\"\n      }\n    },\n    {\n      \"column\": \"Cabin\",\n      \"properties\": {\n        \"dtype\": \"category\",\n        \"num_unique_values\": 147,\n        \"samples\": [\n          \"D45\",\n          \"B49\"\n        ],\n        \"semantic_type\": \"\",\n        \"description\": \"\"\n      }\n    },\n    {\n      \"column\": \"Embarked\",\n      \"properties\": {\n        \"dtype\": \"category\",\n        \"num_unique_values\": 3,\n        \"samples\": [\n          \"S\",\n          \"C\"\n        ],\n        \"semantic_type\": \"\",\n        \"description\": \"\"\n      }\n    }\n  ]\n}"
            }
          },
          "metadata": {},
          "execution_count": 7
        }
      ]
    },
    {
      "cell_type": "code",
      "source": [
        "# Display the first few rows of the dataset\n",
        "print(\"Dataset Preview:\")\n",
        "print(df.head())  # Print the first 5 rows of the dataset\n",
        "\n",
        "# Understand the structure of the dataset\n",
        "print(\"\\nDataset Information:\")\n",
        "print(df.info())  # Shows column names, data types, and non-null counts\n",
        "\n",
        "# Statistical summary of numerical columns\n",
        "print(\"\\nStatistical Summary:\")\n",
        "print(df.describe())  # Summary statistics for numerical data\n",
        "\n",
        "# Selecting specific columns\n",
        "print(\"\\nSelected Columns (Name, Age, Fare):\")\n",
        "print(df[['Name', 'Age', 'Fare']].head())  # Show specific columns\n",
        "\n",
        "# Filtering rows based on a condition\n",
        "print(\"\\nFiltering Rows Where Age > 50:\")\n",
        "print(df[df['Age'] > 50].head())  # Rows where 'Age' is greater than 50\n",
        "\n"
      ],
      "metadata": {
        "colab": {
          "base_uri": "https://localhost:8080/"
        },
        "id": "pZ4VQGwS0rCX",
        "outputId": "714793b9-e752-4294-dfca-bbc60b6d37fe"
      },
      "execution_count": 8,
      "outputs": [
        {
          "output_type": "stream",
          "name": "stdout",
          "text": [
            "Dataset Preview:\n",
            "   PassengerId  Survived  Pclass  \\\n",
            "0            1         0       3   \n",
            "1            2         1       1   \n",
            "2            3         1       3   \n",
            "3            4         1       1   \n",
            "4            5         0       3   \n",
            "\n",
            "                                                Name     Sex   Age  SibSp  \\\n",
            "0                            Braund, Mr. Owen Harris    male  22.0      1   \n",
            "1  Cumings, Mrs. John Bradley (Florence Briggs Th...  female  38.0      1   \n",
            "2                             Heikkinen, Miss. Laina  female  26.0      0   \n",
            "3       Futrelle, Mrs. Jacques Heath (Lily May Peel)  female  35.0      1   \n",
            "4                           Allen, Mr. William Henry    male  35.0      0   \n",
            "\n",
            "   Parch            Ticket     Fare Cabin Embarked  \n",
            "0      0         A/5 21171   7.2500   NaN        S  \n",
            "1      0          PC 17599  71.2833   C85        C  \n",
            "2      0  STON/O2. 3101282   7.9250   NaN        S  \n",
            "3      0            113803  53.1000  C123        S  \n",
            "4      0            373450   8.0500   NaN        S  \n",
            "\n",
            "Dataset Information:\n",
            "<class 'pandas.core.frame.DataFrame'>\n",
            "RangeIndex: 891 entries, 0 to 890\n",
            "Data columns (total 12 columns):\n",
            " #   Column       Non-Null Count  Dtype  \n",
            "---  ------       --------------  -----  \n",
            " 0   PassengerId  891 non-null    int64  \n",
            " 1   Survived     891 non-null    int64  \n",
            " 2   Pclass       891 non-null    int64  \n",
            " 3   Name         891 non-null    object \n",
            " 4   Sex          891 non-null    object \n",
            " 5   Age          714 non-null    float64\n",
            " 6   SibSp        891 non-null    int64  \n",
            " 7   Parch        891 non-null    int64  \n",
            " 8   Ticket       891 non-null    object \n",
            " 9   Fare         891 non-null    float64\n",
            " 10  Cabin        204 non-null    object \n",
            " 11  Embarked     889 non-null    object \n",
            "dtypes: float64(2), int64(5), object(5)\n",
            "memory usage: 83.7+ KB\n",
            "None\n",
            "\n",
            "Statistical Summary:\n",
            "       PassengerId    Survived      Pclass         Age       SibSp  \\\n",
            "count   891.000000  891.000000  891.000000  714.000000  891.000000   \n",
            "mean    446.000000    0.383838    2.308642   29.699118    0.523008   \n",
            "std     257.353842    0.486592    0.836071   14.526497    1.102743   \n",
            "min       1.000000    0.000000    1.000000    0.420000    0.000000   \n",
            "25%     223.500000    0.000000    2.000000   20.125000    0.000000   \n",
            "50%     446.000000    0.000000    3.000000   28.000000    0.000000   \n",
            "75%     668.500000    1.000000    3.000000   38.000000    1.000000   \n",
            "max     891.000000    1.000000    3.000000   80.000000    8.000000   \n",
            "\n",
            "            Parch        Fare  \n",
            "count  891.000000  891.000000  \n",
            "mean     0.381594   32.204208  \n",
            "std      0.806057   49.693429  \n",
            "min      0.000000    0.000000  \n",
            "25%      0.000000    7.910400  \n",
            "50%      0.000000   14.454200  \n",
            "75%      0.000000   31.000000  \n",
            "max      6.000000  512.329200  \n",
            "\n",
            "Selected Columns (Name, Age, Fare):\n",
            "                                                Name   Age     Fare\n",
            "0                            Braund, Mr. Owen Harris  22.0   7.2500\n",
            "1  Cumings, Mrs. John Bradley (Florence Briggs Th...  38.0  71.2833\n",
            "2                             Heikkinen, Miss. Laina  26.0   7.9250\n",
            "3       Futrelle, Mrs. Jacques Heath (Lily May Peel)  35.0  53.1000\n",
            "4                           Allen, Mr. William Henry  35.0   8.0500\n",
            "\n",
            "Filtering Rows Where Age > 50:\n",
            "    PassengerId  Survived  Pclass                              Name     Sex  \\\n",
            "6             7         0       1           McCarthy, Mr. Timothy J    male   \n",
            "11           12         1       1          Bonnell, Miss. Elizabeth  female   \n",
            "15           16         1       2  Hewlett, Mrs. (Mary D Kingcome)   female   \n",
            "33           34         0       2             Wheadon, Mr. Edward H    male   \n",
            "54           55         0       1    Ostby, Mr. Engelhart Cornelius    male   \n",
            "\n",
            "     Age  SibSp  Parch      Ticket     Fare Cabin Embarked  \n",
            "6   54.0      0      0       17463  51.8625   E46        S  \n",
            "11  58.0      0      0      113783  26.5500  C103        S  \n",
            "15  55.0      0      0      248706  16.0000   NaN        S  \n",
            "33  66.0      0      0  C.A. 24579  10.5000   NaN        S  \n",
            "54  65.0      0      1      113509  61.9792   B30        C  \n"
          ]
        }
      ]
    },
    {
      "cell_type": "code",
      "source": [
        "df.isnull().sum()"
      ],
      "metadata": {
        "colab": {
          "base_uri": "https://localhost:8080/",
          "height": 460
        },
        "id": "qcKmigHxowa7",
        "outputId": "486a9910-1e03-4560-95fc-6d97e53bb279"
      },
      "execution_count": null,
      "outputs": [
        {
          "output_type": "execute_result",
          "data": {
            "text/plain": [
              "PassengerId      0\n",
              "Survived         0\n",
              "Pclass           0\n",
              "Name             0\n",
              "Sex              0\n",
              "Age            177\n",
              "SibSp            0\n",
              "Parch            0\n",
              "Ticket           0\n",
              "Fare             0\n",
              "Cabin          687\n",
              "Embarked         2\n",
              "dtype: int64"
            ],
            "text/html": [
              "<div>\n",
              "<style scoped>\n",
              "    .dataframe tbody tr th:only-of-type {\n",
              "        vertical-align: middle;\n",
              "    }\n",
              "\n",
              "    .dataframe tbody tr th {\n",
              "        vertical-align: top;\n",
              "    }\n",
              "\n",
              "    .dataframe thead th {\n",
              "        text-align: right;\n",
              "    }\n",
              "</style>\n",
              "<table border=\"1\" class=\"dataframe\">\n",
              "  <thead>\n",
              "    <tr style=\"text-align: right;\">\n",
              "      <th></th>\n",
              "      <th>0</th>\n",
              "    </tr>\n",
              "  </thead>\n",
              "  <tbody>\n",
              "    <tr>\n",
              "      <th>PassengerId</th>\n",
              "      <td>0</td>\n",
              "    </tr>\n",
              "    <tr>\n",
              "      <th>Survived</th>\n",
              "      <td>0</td>\n",
              "    </tr>\n",
              "    <tr>\n",
              "      <th>Pclass</th>\n",
              "      <td>0</td>\n",
              "    </tr>\n",
              "    <tr>\n",
              "      <th>Name</th>\n",
              "      <td>0</td>\n",
              "    </tr>\n",
              "    <tr>\n",
              "      <th>Sex</th>\n",
              "      <td>0</td>\n",
              "    </tr>\n",
              "    <tr>\n",
              "      <th>Age</th>\n",
              "      <td>177</td>\n",
              "    </tr>\n",
              "    <tr>\n",
              "      <th>SibSp</th>\n",
              "      <td>0</td>\n",
              "    </tr>\n",
              "    <tr>\n",
              "      <th>Parch</th>\n",
              "      <td>0</td>\n",
              "    </tr>\n",
              "    <tr>\n",
              "      <th>Ticket</th>\n",
              "      <td>0</td>\n",
              "    </tr>\n",
              "    <tr>\n",
              "      <th>Fare</th>\n",
              "      <td>0</td>\n",
              "    </tr>\n",
              "    <tr>\n",
              "      <th>Cabin</th>\n",
              "      <td>687</td>\n",
              "    </tr>\n",
              "    <tr>\n",
              "      <th>Embarked</th>\n",
              "      <td>2</td>\n",
              "    </tr>\n",
              "  </tbody>\n",
              "</table>\n",
              "</div><br><label><b>dtype:</b> int64</label>"
            ]
          },
          "metadata": {},
          "execution_count": 12
        }
      ]
    },
    {
      "cell_type": "code",
      "source": [
        "df['Age'].fillna(df['Age'].mean(), inplace=True)"
      ],
      "metadata": {
        "id": "poF9tDNHpFdh"
      },
      "execution_count": null,
      "outputs": []
    },
    {
      "cell_type": "code",
      "source": [
        "df['Age'].mean()"
      ],
      "metadata": {
        "colab": {
          "base_uri": "https://localhost:8080/"
        },
        "id": "V6K7WGSCpM2U",
        "outputId": "3ebc40bd-a139-4d6d-eb29-486d6a808f77"
      },
      "execution_count": null,
      "outputs": [
        {
          "output_type": "execute_result",
          "data": {
            "text/plain": [
              "29.69911764705882"
            ]
          },
          "metadata": {},
          "execution_count": 13
        }
      ]
    },
    {
      "cell_type": "code",
      "source": [
        "# ##############################\n",
        "# 3. Handling Missing Values\n",
        "# ##############################\n",
        "\n",
        "# Check for missing values in each column\n",
        "print(\"\\nNumber of Missing Values Per Column:\")\n",
        "print(df.isnull().sum())  # Count missing values for each column\n",
        "\n",
        "# Fill missing values in the 'Age' column with the column mean\n",
        "df['Age'].fillna(df['Age'].mean(), inplace=True)\n",
        "print(\"\\nFilled Missing Values in 'Age' with the Mean:\")\n",
        "print(df['Age'].head())  # Print the updated 'Age' column\n",
        "\n",
        "# Add a new column: Fare per person\n",
        "# Formula: Divide 'Fare' by (SibSp + Parch + 1) to get fare per individual\n",
        "df['Fare_per_person'] = df['Fare'] / (df['SibSp'] + df['Parch'] + 1)\n",
        "print(\"\\nAdded 'Fare_per_person' Column:\")\n",
        "print(df[['Fare', 'Fare_per_person']].head())\n"
      ],
      "metadata": {
        "colab": {
          "base_uri": "https://localhost:8080/"
        },
        "id": "8E_8EuOK1JW7",
        "outputId": "3b0ce277-2c93-4369-9b36-8b5e14fbe897"
      },
      "execution_count": null,
      "outputs": [
        {
          "output_type": "stream",
          "name": "stdout",
          "text": [
            "\n",
            "Number of Missing Values Per Column:\n",
            "PassengerId      0\n",
            "Survived         0\n",
            "Pclass           0\n",
            "Name             0\n",
            "Sex              0\n",
            "Age            177\n",
            "SibSp            0\n",
            "Parch            0\n",
            "Ticket           0\n",
            "Fare             0\n",
            "Cabin          687\n",
            "Embarked         2\n",
            "dtype: int64\n",
            "\n",
            "Filled Missing Values in 'Age' with the Mean:\n",
            "0    22.0\n",
            "1    38.0\n",
            "2    26.0\n",
            "3    35.0\n",
            "4    35.0\n",
            "Name: Age, dtype: float64\n",
            "\n",
            "Added 'Fare_per_person' Column:\n",
            "      Fare  Fare_per_person\n",
            "0   7.2500          3.62500\n",
            "1  71.2833         35.64165\n",
            "2   7.9250          7.92500\n",
            "3  53.1000         26.55000\n",
            "4   8.0500          8.05000\n"
          ]
        },
        {
          "output_type": "stream",
          "name": "stderr",
          "text": [
            "<ipython-input-16-17017efd834d>:10: FutureWarning: A value is trying to be set on a copy of a DataFrame or Series through chained assignment using an inplace method.\n",
            "The behavior will change in pandas 3.0. This inplace method will never work because the intermediate object on which we are setting values always behaves as a copy.\n",
            "\n",
            "For example, when doing 'df[col].method(value, inplace=True)', try using 'df.method({col: value}, inplace=True)' or df[col] = df[col].method(value) instead, to perform the operation inplace on the original object.\n",
            "\n",
            "\n",
            "  df['Age'].fillna(df['Age'].mean(), inplace=True)\n"
          ]
        }
      ]
    },
    {
      "cell_type": "code",
      "source": [
        "# ##############################\n",
        "\n",
        "# 4. Data Filtration and Grouping\n",
        "# ##############################\n",
        "\n",
        "# Filtering rows based on multiple conditions\n",
        "filtered_data = df[(df['Age'] > 30) & (df['Fare'] > 50)]  # Age > 30 AND Fare > 50\n",
        "print(\"\\nFiltered Rows Where Age > 30 and Fare > 50:\")\n",
        "print(filtered_data.head())\n",
        "\n",
        "# Group data by Passenger Class (Pclass) and calculate mean fare\n",
        "grouped_data = df.groupby('Pclass')['Fare'].mean()  # Average fare per class\n",
        "print(\"\\nAverage Fare Per Passenger Class:\")\n",
        "print(grouped_data)\n"
      ],
      "metadata": {
        "colab": {
          "base_uri": "https://localhost:8080/"
        },
        "id": "CNok56kM13Qd",
        "outputId": "2c31f79d-e58f-4aab-b915-92528338f81b"
      },
      "execution_count": null,
      "outputs": [
        {
          "output_type": "stream",
          "name": "stdout",
          "text": [
            "\n",
            "Filtered Rows Where Age > 30 and Fare > 50:\n",
            "    PassengerId  Survived  Pclass  \\\n",
            "1             2         1       1   \n",
            "3             4         1       1   \n",
            "6             7         0       1   \n",
            "35           36         0       1   \n",
            "52           53         1       1   \n",
            "\n",
            "                                                 Name     Sex   Age  SibSp  \\\n",
            "1   Cumings, Mrs. John Bradley (Florence Briggs Th...  female  38.0      1   \n",
            "3        Futrelle, Mrs. Jacques Heath (Lily May Peel)  female  35.0      1   \n",
            "6                             McCarthy, Mr. Timothy J    male  54.0      0   \n",
            "35                     Holverson, Mr. Alexander Oskar    male  42.0      1   \n",
            "52           Harper, Mrs. Henry Sleeper (Myna Haxtun)  female  49.0      1   \n",
            "\n",
            "    Parch    Ticket     Fare Cabin Embarked  \n",
            "1       0  PC 17599  71.2833   C85        C  \n",
            "3       0    113803  53.1000  C123        S  \n",
            "6       0     17463  51.8625   E46        S  \n",
            "35      0    113789  52.0000   NaN        S  \n",
            "52      0  PC 17572  76.7292   D33        C  \n",
            "\n",
            "Average Fare Per Passenger Class:\n",
            "Pclass\n",
            "1    84.154687\n",
            "2    20.662183\n",
            "3    13.675550\n",
            "Name: Fare, dtype: float64\n"
          ]
        }
      ]
    },
    {
      "cell_type": "code",
      "source": [
        "grouped_data.head()"
      ],
      "metadata": {
        "colab": {
          "base_uri": "https://localhost:8080/",
          "height": 210
        },
        "id": "KVXRTeNfrFwM",
        "outputId": "7a59d082-798b-40d8-ca23-63846d87517b"
      },
      "execution_count": null,
      "outputs": [
        {
          "output_type": "execute_result",
          "data": {
            "text/plain": [
              "Pclass\n",
              "1    84.154687\n",
              "2    20.662183\n",
              "3    13.675550\n",
              "Name: Fare, dtype: float64"
            ],
            "text/html": [
              "<div>\n",
              "<style scoped>\n",
              "    .dataframe tbody tr th:only-of-type {\n",
              "        vertical-align: middle;\n",
              "    }\n",
              "\n",
              "    .dataframe tbody tr th {\n",
              "        vertical-align: top;\n",
              "    }\n",
              "\n",
              "    .dataframe thead th {\n",
              "        text-align: right;\n",
              "    }\n",
              "</style>\n",
              "<table border=\"1\" class=\"dataframe\">\n",
              "  <thead>\n",
              "    <tr style=\"text-align: right;\">\n",
              "      <th></th>\n",
              "      <th>Fare</th>\n",
              "    </tr>\n",
              "    <tr>\n",
              "      <th>Pclass</th>\n",
              "      <th></th>\n",
              "    </tr>\n",
              "  </thead>\n",
              "  <tbody>\n",
              "    <tr>\n",
              "      <th>1</th>\n",
              "      <td>84.154687</td>\n",
              "    </tr>\n",
              "    <tr>\n",
              "      <th>2</th>\n",
              "      <td>20.662183</td>\n",
              "    </tr>\n",
              "    <tr>\n",
              "      <th>3</th>\n",
              "      <td>13.675550</td>\n",
              "    </tr>\n",
              "  </tbody>\n",
              "</table>\n",
              "</div><br><label><b>dtype:</b> float64</label>"
            ]
          },
          "metadata": {},
          "execution_count": 16
        }
      ]
    },
    {
      "cell_type": "code",
      "source": [
        "# ##############################\n",
        "# 5. Visualization (Optional)\n",
        "# ##############################\n",
        "# Visualizing the dataset using matplotlib\n",
        "\n",
        "import matplotlib.pyplot as plt  # Import plotting library\n",
        "\n",
        "# Plot histogram of fares\n",
        "plt.hist(df['Fare'], bins=20, color='blue', edgecolor='black')\n",
        "plt.title(\"Fare Distribution\")\n",
        "plt.xlabel(\"Fare\")\n",
        "plt.ylabel(\"Frequency\")\n",
        "plt.show()\n",
        "\n",
        "# Bar plot for average fare by passenger class\n",
        "grouped_data.plot(kind='bar', title='Average Fare Per Class', color='green')\n",
        "plt.ylabel(\"Average Fare\")\n",
        "plt.show()\n",
        "\n",
        "# ##############################\n",
        "\n",
        "print(\"\\nEnd of Session - Feel free to explore more!\")"
      ],
      "metadata": {
        "colab": {
          "base_uri": "https://localhost:8080/",
          "height": 958
        },
        "id": "muRaCY8n1-h7",
        "outputId": "3cf96e6b-d96e-4f86-c307-f2bb111649f6"
      },
      "execution_count": null,
      "outputs": [
        {
          "output_type": "display_data",
          "data": {
            "text/plain": [
              "<Figure size 640x480 with 1 Axes>"
            ],
            "image/png": "[encoded data removed]"
          },
          "metadata": {}
        },
        {
          "output_type": "display_data",
          "data": {
            "text/plain": [
              "<Figure size 640x480 with 1 Axes>"
            ],
            "image/png": "[encoded data removed]"
          },
          "metadata": {}
        },
        {
          "output_type": "stream",
          "name": "stdout",
          "text": [
            "\n",
            "End of Session - Feel free to explore more!\n"
          ]
        }
      ]
    },
    {
      "cell_type": "markdown",
      "source": [
        "####################################################################################################################################################################################\n",
        "----------------------------------------------------------------------------------------------------------------------------------------------------------------------------------\n"
      ],
      "metadata": {
        "id": "ox1xPmkF2Uwy"
      }
    },
    {
      "cell_type": "code",
      "source": [
        "# Import Libraries\n",
        "import numpy as np\n",
        "import pandas as pd\n",
        "import matplotlib.pyplot as plt"
      ],
      "metadata": {
        "id": "9G7itoY92Ls8"
      },
      "execution_count": null,
      "outputs": []
    },
    {
      "cell_type": "code",
      "source": [
        "\n",
        "# Load the dataset from a public URL\n",
        "url = \"https://data.cityofnewyork.us/api/views/c3uy-2p5r/rows.csv?accessType=DOWNLOAD\"\n",
        "df = pd.read_csv(url)\n",
        "\n",
        "# Display the first few rows\n",
        "print(\"## Original Dataset ##\")\n",
        "print(df.head())"
      ],
      "metadata": {
        "colab": {
          "base_uri": "https://localhost:8080/"
        },
        "id": "nt0SZbkx3FgU",
        "outputId": "49e0eb75-60bd-4654-9478-8fdaee5c5b80"
      },
      "execution_count": null,
      "outputs": [
        {
          "output_type": "stream",
          "name": "stdout",
          "text": [
            "## Original Dataset ##\n",
            "   Unique ID  Indicator ID                                   Name  \\\n",
            "0     179772           640  Boiler Emissions- Total SO2 Emissions   \n",
            "1     179785           640  Boiler Emissions- Total SO2 Emissions   \n",
            "2     178540           365                Fine particles (PM 2.5)   \n",
            "3     178561           365                Fine particles (PM 2.5)   \n",
            "4     823217           365                Fine particles (PM 2.5)   \n",
            "\n",
            "          Measure Measure Info Geo Type Name  Geo Join ID  \\\n",
            "0  Number per km2       number         UHF42        409.0   \n",
            "1  Number per km2       number         UHF42        209.0   \n",
            "2            Mean       mcg/m3         UHF42        209.0   \n",
            "3            Mean       mcg/m3         UHF42        409.0   \n",
            "4            Mean       mcg/m3         UHF42        409.0   \n",
            "\n",
            "            Geo Place Name          Time Period  Start_Date  Data Value  \\\n",
            "0         Southeast Queens                 2015  01/01/2015         0.3   \n",
            "1  Bensonhurst - Bay Ridge                 2015  01/01/2015         1.2   \n",
            "2  Bensonhurst - Bay Ridge  Annual Average 2012  12/01/2011         8.6   \n",
            "3         Southeast Queens  Annual Average 2012  12/01/2011         8.0   \n",
            "4         Southeast Queens          Summer 2022  06/01/2022         6.1   \n",
            "\n",
            "   Message  \n",
            "0      NaN  \n",
            "1      NaN  \n",
            "2      NaN  \n",
            "3      NaN  \n",
            "4      NaN  \n"
          ]
        }
      ]
    },
    {
      "cell_type": "code",
      "source": [
        "df.head()"
      ],
      "metadata": {
        "colab": {
          "base_uri": "https://localhost:8080/",
          "height": 206
        },
        "id": "mnIO2_ktzCTp",
        "outputId": "d63f08b1-4d85-4490-c623-a7ad33a5ba6b"
      },
      "execution_count": null,
      "outputs": [
        {
          "output_type": "execute_result",
          "data": {
            "text/plain": [
              "   Unique ID  Indicator ID                                   Name  \\\n",
              "0     179772           640  Boiler Emissions- Total SO2 Emissions   \n",
              "1     179785           640  Boiler Emissions- Total SO2 Emissions   \n",
              "2     178540           365                Fine particles (PM 2.5)   \n",
              "3     178561           365                Fine particles (PM 2.5)   \n",
              "4     823217           365                Fine particles (PM 2.5)   \n",
              "\n",
              "          Measure Measure Info Geo Type Name  Geo Join ID  \\\n",
              "0  Number per km2       number         UHF42        409.0   \n",
              "1  Number per km2       number         UHF42        209.0   \n",
              "2            Mean       mcg/m3         UHF42        209.0   \n",
              "3            Mean       mcg/m3         UHF42        409.0   \n",
              "4            Mean       mcg/m3         UHF42        409.0   \n",
              "\n",
              "            Geo Place Name          Time Period  Start_Date  Data Value  \\\n",
              "0         Southeast Queens                 2015  01/01/2015         0.3   \n",
              "1  Bensonhurst - Bay Ridge                 2015  01/01/2015         1.2   \n",
              "2  Bensonhurst - Bay Ridge  Annual Average 2012  12/01/2011         8.6   \n",
              "3         Southeast Queens  Annual Average 2012  12/01/2011         8.0   \n",
              "4         Southeast Queens          Summer 2022  06/01/2022         6.1   \n",
              "\n",
              "   Message  \n",
              "0      NaN  \n",
              "1      NaN  \n",
              "2      NaN  \n",
              "3      NaN  \n",
              "4      NaN  "
            ],
            "text/html": [
              "\n",
              "  <div id=\"df-6af5d601-fac3-47a8-a0da-05902eda220b\" class=\"colab-df-container\">\n",
              "    <div>\n",
              "<style scoped>\n",
              "    .dataframe tbody tr th:only-of-type {\n",
              "        vertical-align: middle;\n",
              "    }\n",
              "\n",
              "    .dataframe tbody tr th {\n",
              "        vertical-align: top;\n",
              "    }\n",
              "\n",
              "    .dataframe thead th {\n",
              "        text-align: right;\n",
              "    }\n",
              "</style>\n",
              "<table border=\"1\" class=\"dataframe\">\n",
              "  <thead>\n",
              "    <tr style=\"text-align: right;\">\n",
              "      <th></th>\n",
              "      <th>Unique ID</th>\n",
              "      <th>Indicator ID</th>\n",
              "      <th>Name</th>\n",
              "      <th>Measure</th>\n",
              "      <th>Measure Info</th>\n",
              "      <th>Geo Type Name</th>\n",
              "      <th>Geo Join ID</th>\n",
              "      <th>Geo Place Name</th>\n",
              "      <th>Time Period</th>\n",
              "      <th>Start_Date</th>\n",
              "      <th>Data Value</th>\n",
              "      <th>Message</th>\n",
              "    </tr>\n",
              "  </thead>\n",
              "  <tbody>\n",
              "    <tr>\n",
              "      <th>0</th>\n",
              "      <td>179772</td>\n",
              "      <td>640</td>\n",
              "      <td>Boiler Emissions- Total SO2 Emissions</td>\n",
              "      <td>Number per km2</td>\n",
              "      <td>number</td>\n",
              "      <td>UHF42</td>\n",
              "      <td>409.0</td>\n",
              "      <td>Southeast Queens</td>\n",
              "      <td>2015</td>\n",
              "      <td>01/01/2015</td>\n",
              "      <td>0.3</td>\n",
              "      <td>NaN</td>\n",
              "    </tr>\n",
              "    <tr>\n",
              "      <th>1</th>\n",
              "      <td>179785</td>\n",
              "      <td>640</td>\n",
              "      <td>Boiler Emissions- Total SO2 Emissions</td>\n",
              "      <td>Number per km2</td>\n",
              "      <td>number</td>\n",
              "      <td>UHF42</td>\n",
              "      <td>209.0</td>\n",
              "      <td>Bensonhurst - Bay Ridge</td>\n",
              "      <td>2015</td>\n",
              "      <td>01/01/2015</td>\n",
              "      <td>1.2</td>\n",
              "      <td>NaN</td>\n",
              "    </tr>\n",
              "    <tr>\n",
              "      <th>2</th>\n",
              "      <td>178540</td>\n",
              "      <td>365</td>\n",
              "      <td>Fine particles (PM 2.5)</td>\n",
              "      <td>Mean</td>\n",
              "      <td>mcg/m3</td>\n",
              "      <td>UHF42</td>\n",
              "      <td>209.0</td>\n",
              "      <td>Bensonhurst - Bay Ridge</td>\n",
              "      <td>Annual Average 2012</td>\n",
              "      <td>12/01/2011</td>\n",
              "      <td>8.6</td>\n",
              "      <td>NaN</td>\n",
              "    </tr>\n",
              "    <tr>\n",
              "      <th>3</th>\n",
              "      <td>178561</td>\n",
              "      <td>365</td>\n",
              "      <td>Fine particles (PM 2.5)</td>\n",
              "      <td>Mean</td>\n",
              "      <td>mcg/m3</td>\n",
              "      <td>UHF42</td>\n",
              "      <td>409.0</td>\n",
              "      <td>Southeast Queens</td>\n",
              "      <td>Annual Average 2012</td>\n",
              "      <td>12/01/2011</td>\n",
              "      <td>8.0</td>\n",
              "      <td>NaN</td>\n",
              "    </tr>\n",
              "    <tr>\n",
              "      <th>4</th>\n",
              "      <td>823217</td>\n",
              "      <td>365</td>\n",
              "      <td>Fine particles (PM 2.5)</td>\n",
              "      <td>Mean</td>\n",
              "      <td>mcg/m3</td>\n",
              "      <td>UHF42</td>\n",
              "      <td>409.0</td>\n",
              "      <td>Southeast Queens</td>\n",
              "      <td>Summer 2022</td>\n",
              "      <td>06/01/2022</td>\n",
              "      <td>6.1</td>\n",
              "      <td>NaN</td>\n",
              "    </tr>\n",
              "  </tbody>\n",
              "</table>\n",
              "</div>\n",
              "    <div class=\"colab-df-buttons\">\n",
              "\n",
              "  <div class=\"colab-df-container\">\n",
              "    <button class=\"colab-df-convert\" onclick=\"convertToInteractive('df-6af5d601-fac3-47a8-a0da-05902eda220b')\"\n",
              "            title=\"Convert this dataframe to an interactive table.\"\n",
              "            style=\"display:none;\">\n",
              "\n",
              "  <svg xmlns=\"http://www.w3.org/2000/svg\" height=\"24px\" viewBox=\"0 -960 960 960\">\n",
              "    <path d=\"M120-120v-720h720v720H120Zm60-500h600v-160H180v160Zm220 220h160v-160H400v160Zm0 220h160v-160H400v160ZM180-400h160v-160H180v160Zm440 0h160v-160H620v160ZM180-180h160v-160H180v160Zm440 0h160v-160H620v160Z\"/>\n",
              "  </svg>\n",
              "    </button>\n",
              "\n",
              "  <style>\n",
              "    .colab-df-container {\n",
              "      display:flex;\n",
              "      gap: 12px;\n",
              "    }\n",
              "\n",
              "    .colab-df-convert {\n",
              "      background-color: #E8F0FE;\n",
              "      border: none;\n",
              "      border-radius: 50%;\n",
              "      cursor: pointer;\n",
              "      display: none;\n",
              "      fill: #1967D2;\n",
              "      height: 32px;\n",
              "      padding: 0 0 0 0;\n",
              "      width: 32px;\n",
              "    }\n",
              "\n",
              "    .colab-df-convert:hover {\n",
              "      background-color: #E2EBFA;\n",
              "      box-shadow: 0px 1px 2px rgba(60, 64, 67, 0.3), 0px 1px 3px 1px rgba(60, 64, 67, 0.15);\n",
              "      fill: #174EA6;\n",
              "    }\n",
              "\n",
              "    .colab-df-buttons div {\n",
              "      margin-bottom: 4px;\n",
              "    }\n",
              "\n",
              "    [theme=dark] .colab-df-convert {\n",
              "      background-color: #3B4455;\n",
              "      fill: #D2E3FC;\n",
              "    }\n",
              "\n",
              "    [theme=dark] .colab-df-convert:hover {\n",
              "      background-color: #434B5C;\n",
              "      box-shadow: 0px 1px 3px 1px rgba(0, 0, 0, 0.15);\n",
              "      filter: drop-shadow(0px 1px 2px rgba(0, 0, 0, 0.3));\n",
              "      fill: #FFFFFF;\n",
              "    }\n",
              "  </style>\n",
              "\n",
              "    <script>\n",
              "      const buttonEl =\n",
              "        document.querySelector('#df-6af5d601-fac3-47a8-a0da-05902eda220b button.colab-df-convert');\n",
              "      buttonEl.style.display =\n",
              "        google.colab.kernel.accessAllowed ? 'block' : 'none';\n",
              "\n",
              "      async function convertToInteractive(key) {\n",
              "        const element = document.querySelector('#df-6af5d601-fac3-47a8-a0da-05902eda220b');\n",
              "        const dataTable =\n",
              "          await google.colab.kernel.invokeFunction('convertToInteractive',\n",
              "                                                    [key], {});\n",
              "        if (!dataTable) return;\n",
              "\n",
              "        const docLinkHtml = 'Like what you see? Visit the ' +\n",
              "          '<a target=\"_blank\" href=https://colab.research.google.com/notebooks/data_table.ipynb>data table notebook</a>'\n",
              "          + ' to learn more about interactive tables.';\n",
              "        element.innerHTML = '';\n",
              "        dataTable['output_type'] = 'display_data';\n",
              "        await google.colab.output.renderOutput(dataTable, element);\n",
              "        const docLink = document.createElement('div');\n",
              "        docLink.innerHTML = docLinkHtml;\n",
              "        element.appendChild(docLink);\n",
              "      }\n",
              "    </script>\n",
              "  </div>\n",
              "\n",
              "\n",
              "<div id=\"df-431c9b2d-ab37-4f9f-ab44-c87e3e5d86d0\">\n",
              "  <button class=\"colab-df-quickchart\" onclick=\"quickchart('df-431c9b2d-ab37-4f9f-ab44-c87e3e5d86d0')\"\n",
              "            title=\"Suggest charts\"\n",
              "            style=\"display:none;\">\n",
              "\n",
              "<svg xmlns=\"http://www.w3.org/2000/svg\" height=\"24px\"viewBox=\"0 0 24 24\"\n",
              "     width=\"24px\">\n",
              "    <g>\n",
              "        <path d=\"M19 3H5c-1.1 0-2 .9-2 2v14c0 1.1.9 2 2 2h14c1.1 0 2-.9 2-2V5c0-1.1-.9-2-2-2zM9 17H7v-7h2v7zm4 0h-2V7h2v10zm4 0h-2v-4h2v4z\"/>\n",
              "    </g>\n",
              "</svg>\n",
              "  </button>\n",
              "\n",
              "<style>\n",
              "  .colab-df-quickchart {\n",
              "      --bg-color: #E8F0FE;\n",
              "      --fill-color: #1967D2;\n",
              "      --hover-bg-color: #E2EBFA;\n",
              "      --hover-fill-color: #174EA6;\n",
              "      --disabled-fill-color: #AAA;\n",
              "      --disabled-bg-color: #DDD;\n",
              "  }\n",
              "\n",
              "  [theme=dark] .colab-df-quickchart {\n",
              "      --bg-color: #3B4455;\n",
              "      --fill-color: #D2E3FC;\n",
              "      --hover-bg-color: #434B5C;\n",
              "      --hover-fill-color: #FFFFFF;\n",
              "      --disabled-bg-color: #3B4455;\n",
              "      --disabled-fill-color: #666;\n",
              "  }\n",
              "\n",
              "  .colab-df-quickchart {\n",
              "    background-color: var(--bg-color);\n",
              "    border: none;\n",
              "    border-radius: 50%;\n",
              "    cursor: pointer;\n",
              "    display: none;\n",
              "    fill: var(--fill-color);\n",
              "    height: 32px;\n",
              "    padding: 0;\n",
              "    width: 32px;\n",
              "  }\n",
              "\n",
              "  .colab-df-quickchart:hover {\n",
              "    background-color: var(--hover-bg-color);\n",
              "    box-shadow: 0 1px 2px rgba(60, 64, 67, 0.3), 0 1px 3px 1px rgba(60, 64, 67, 0.15);\n",
              "    fill: var(--button-hover-fill-color);\n",
              "  }\n",
              "\n",
              "  .colab-df-quickchart-complete:disabled,\n",
              "  .colab-df-quickchart-complete:disabled:hover {\n",
              "    background-color: var(--disabled-bg-color);\n",
              "    fill: var(--disabled-fill-color);\n",
              "    box-shadow: none;\n",
              "  }\n",
              "\n",
              "  .colab-df-spinner {\n",
              "    border: 2px solid var(--fill-color);\n",
              "    border-color: transparent;\n",
              "    border-bottom-color: var(--fill-color);\n",
              "    animation:\n",
              "      spin 1s steps(1) infinite;\n",
              "  }\n",
              "\n",
              "  @keyframes spin {\n",
              "    0% {\n",
              "      border-color: transparent;\n",
              "      border-bottom-color: var(--fill-color);\n",
              "      border-left-color: var(--fill-color);\n",
              "    }\n",
              "    20% {\n",
              "      border-color: transparent;\n",
              "      border-left-color: var(--fill-color);\n",
              "      border-top-color: var(--fill-color);\n",
              "    }\n",
              "    30% {\n",
              "      border-color: transparent;\n",
              "      border-left-color: var(--fill-color);\n",
              "      border-top-color: var(--fill-color);\n",
              "      border-right-color: var(--fill-color);\n",
              "    }\n",
              "    40% {\n",
              "      border-color: transparent;\n",
              "      border-right-color: var(--fill-color);\n",
              "      border-top-color: var(--fill-color);\n",
              "    }\n",
              "    60% {\n",
              "      border-color: transparent;\n",
              "      border-right-color: var(--fill-color);\n",
              "    }\n",
              "    80% {\n",
              "      border-color: transparent;\n",
              "      border-right-color: var(--fill-color);\n",
              "      border-bottom-color: var(--fill-color);\n",
              "    }\n",
              "    90% {\n",
              "      border-color: transparent;\n",
              "      border-bottom-color: var(--fill-color);\n",
              "    }\n",
              "  }\n",
              "</style>\n",
              "\n",
              "  <script>\n",
              "    async function quickchart(key) {\n",
              "      const quickchartButtonEl =\n",
              "        document.querySelector('#' + key + ' button');\n",
              "      quickchartButtonEl.disabled = true;  // To prevent multiple clicks.\n",
              "      quickchartButtonEl.classList.add('colab-df-spinner');\n",
              "      try {\n",
              "        const charts = await google.colab.kernel.invokeFunction(\n",
              "            'suggestCharts', [key], {});\n",
              "      } catch (error) {\n",
              "        console.error('Error during call to suggestCharts:', error);\n",
              "      }\n",
              "      quickchartButtonEl.classList.remove('colab-df-spinner');\n",
              "      quickchartButtonEl.classList.add('colab-df-quickchart-complete');\n",
              "    }\n",
              "    (() => {\n",
              "      let quickchartButtonEl =\n",
              "        document.querySelector('#df-431c9b2d-ab37-4f9f-ab44-c87e3e5d86d0 button');\n",
              "      quickchartButtonEl.style.display =\n",
              "        google.colab.kernel.accessAllowed ? 'block' : 'none';\n",
              "    })();\n",
              "  </script>\n",
              "</div>\n",
              "\n",
              "    </div>\n",
              "  </div>\n"
            ],
            "application/vnd.google.colaboratory.intrinsic+json": {
              "type": "dataframe",
              "variable_name": "df",
              "summary": "{\n  \"name\": \"df\",\n  \"rows\": 18025,\n  \"fields\": [\n    {\n      \"column\": \"Unique ID\",\n      \"properties\": {\n        \"dtype\": \"number\",\n        \"std\": 250489,\n        \"min\": 121644,\n        \"max\": 828353,\n        \"num_unique_values\": 18025,\n        \"samples\": [\n          175358,\n          168467,\n          165951\n        ],\n        \"semantic_type\": \"\",\n        \"description\": \"\"\n      }\n    },\n    {\n      \"column\": \"Indicator ID\",\n      \"properties\": {\n        \"dtype\": \"number\",\n        \"std\": 115,\n        \"min\": 365,\n        \"max\": 661,\n        \"num_unique_values\": 21,\n        \"samples\": [\n          640,\n          639,\n          651\n        ],\n        \"semantic_type\": \"\",\n        \"description\": \"\"\n      }\n    },\n    {\n      \"column\": \"Name\",\n      \"properties\": {\n        \"dtype\": \"category\",\n        \"num_unique_values\": 18,\n        \"samples\": [\n          \"Boiler Emissions- Total SO2 Emissions\",\n          \"Fine particles (PM 2.5)\",\n          \"Boiler Emissions- Total NOx Emissions\"\n        ],\n        \"semantic_type\": \"\",\n        \"description\": \"\"\n      }\n    },\n    {\n      \"column\": \"Measure\",\n      \"properties\": {\n        \"dtype\": \"category\",\n        \"num_unique_values\": 8,\n        \"samples\": [\n          \"Mean\",\n          \"Estimated annual rate\",\n          \"Number per km2\"\n        ],\n        \"semantic_type\": \"\",\n        \"description\": \"\"\n      }\n    },\n    {\n      \"column\": \"Measure Info\",\n      \"properties\": {\n        \"dtype\": \"category\",\n        \"num_unique_values\": 8,\n        \"samples\": [\n          \"mcg/m3\",\n          \"per 100,000 adults\",\n          \"number\"\n        ],\n        \"semantic_type\": \"\",\n        \"description\": \"\"\n      }\n    },\n    {\n      \"column\": \"Geo Type Name\",\n      \"properties\": {\n        \"dtype\": \"category\",\n        \"num_unique_values\": 5,\n        \"samples\": [\n          \"UHF34\",\n          \"Citywide\",\n          \"Borough\"\n        ],\n        \"semantic_type\": \"\",\n        \"description\": \"\"\n      }\n    },\n    {\n      \"column\": \"Geo Join ID\",\n      \"properties\": {\n        \"dtype\": \"number\",\n        \"std\": 7769548.794983287,\n        \"min\": 1.0,\n        \"max\": 105106107.0,\n        \"num_unique_values\": 72,\n        \"samples\": [\n          211.0,\n          501502.0,\n          102.0\n        ],\n        \"semantic_type\": \"\",\n        \"description\": \"\"\n      }\n    },\n    {\n      \"column\": \"Geo Place Name\",\n      \"properties\": {\n        \"dtype\": \"category\",\n        \"num_unique_values\": 114,\n        \"samples\": [\n          \"Fordham and University Heights (CD5)\",\n          \"Williamsburg - Bushwick\",\n          \"Upper East Side (CD8)\"\n        ],\n        \"semantic_type\": \"\",\n        \"description\": \"\"\n      }\n    },\n    {\n      \"column\": \"Time Period\",\n      \"properties\": {\n        \"dtype\": \"category\",\n        \"num_unique_values\": 55,\n        \"samples\": [\n          \"Summer 2019\",\n          \"Summer 2021\",\n          \"Annual Average 2020\"\n        ],\n        \"semantic_type\": \"\",\n        \"description\": \"\"\n      }\n    },\n    {\n      \"column\": \"Start_Date\",\n      \"properties\": {\n        \"dtype\": \"object\",\n        \"num_unique_values\": 43,\n        \"samples\": [\n          \"06/01/2017\",\n          \"06/01/2015\",\n          \"01/01/2009\"\n        ],\n        \"semantic_type\": \"\",\n        \"description\": \"\"\n      }\n    },\n    {\n      \"column\": \"Data Value\",\n      \"properties\": {\n        \"dtype\": \"number\",\n        \"std\": 23.999345285265907,\n        \"min\": 0.0,\n        \"max\": 424.7,\n        \"num_unique_values\": 1147,\n        \"samples\": [\n          31.9,\n          64.2,\n          225.0\n        ],\n        \"semantic_type\": \"\",\n        \"description\": \"\"\n      }\n    },\n    {\n      \"column\": \"Message\",\n      \"properties\": {\n        \"dtype\": \"number\",\n        \"std\": null,\n        \"min\": null,\n        \"max\": null,\n        \"num_unique_values\": 0,\n        \"samples\": [],\n        \"semantic_type\": \"\",\n        \"description\": \"\"\n      }\n    }\n  ]\n}"
            }
          },
          "metadata": {},
          "execution_count": 21
        }
      ]
    },
    {
      "cell_type": "code",
      "source": [
        "df.head()"
      ],
      "metadata": {
        "colab": {
          "base_uri": "https://localhost:8080/",
          "height": 206
        },
        "id": "R-P4dKPG5qBr",
        "outputId": "459d6693-c341-42db-b3ea-959743754ba0"
      },
      "execution_count": null,
      "outputs": [
        {
          "output_type": "execute_result",
          "data": {
            "text/plain": [
              "   Unique ID  Indicator ID                                   Name  \\\n",
              "0     179772           640  Boiler Emissions- Total SO2 Emissions   \n",
              "1     179785           640  Boiler Emissions- Total SO2 Emissions   \n",
              "2     178540           365                Fine particles (PM 2.5)   \n",
              "3     178561           365                Fine particles (PM 2.5)   \n",
              "4     823217           365                Fine particles (PM 2.5)   \n",
              "\n",
              "          Measure Measure Info Geo Type Name  Geo Join ID  \\\n",
              "0  Number per km2       number         UHF42        409.0   \n",
              "1  Number per km2       number         UHF42        209.0   \n",
              "2            Mean       mcg/m3         UHF42        209.0   \n",
              "3            Mean       mcg/m3         UHF42        409.0   \n",
              "4            Mean       mcg/m3         UHF42        409.0   \n",
              "\n",
              "            Geo Place Name          Time Period  Start_Date  Data Value  \\\n",
              "0         Southeast Queens                 2015  01/01/2015         0.3   \n",
              "1  Bensonhurst - Bay Ridge                 2015  01/01/2015         1.2   \n",
              "2  Bensonhurst - Bay Ridge  Annual Average 2012  12/01/2011         8.6   \n",
              "3         Southeast Queens  Annual Average 2012  12/01/2011         8.0   \n",
              "4         Southeast Queens          Summer 2022  06/01/2022         6.1   \n",
              "\n",
              "   Message  \n",
              "0      NaN  \n",
              "1      NaN  \n",
              "2      NaN  \n",
              "3      NaN  \n",
              "4      NaN  "
            ],
            "text/html": [
              "\n",
              "  <div id=\"df-df1623ab-b16e-4df8-bfcc-cf1ccd952cbb\" class=\"colab-df-container\">\n",
              "    <div>\n",
              "<style scoped>\n",
              "    .dataframe tbody tr th:only-of-type {\n",
              "        vertical-align: middle;\n",
              "    }\n",
              "\n",
              "    .dataframe tbody tr th {\n",
              "        vertical-align: top;\n",
              "    }\n",
              "\n",
              "    .dataframe thead th {\n",
              "        text-align: right;\n",
              "    }\n",
              "</style>\n",
              "<table border=\"1\" class=\"dataframe\">\n",
              "  <thead>\n",
              "    <tr style=\"text-align: right;\">\n",
              "      <th></th>\n",
              "      <th>Unique ID</th>\n",
              "      <th>Indicator ID</th>\n",
              "      <th>Name</th>\n",
              "      <th>Measure</th>\n",
              "      <th>Measure Info</th>\n",
              "      <th>Geo Type Name</th>\n",
              "      <th>Geo Join ID</th>\n",
              "      <th>Geo Place Name</th>\n",
              "      <th>Time Period</th>\n",
              "      <th>Start_Date</th>\n",
              "      <th>Data Value</th>\n",
              "      <th>Message</th>\n",
              "    </tr>\n",
              "  </thead>\n",
              "  <tbody>\n",
              "    <tr>\n",
              "      <th>0</th>\n",
              "      <td>179772</td>\n",
              "      <td>640</td>\n",
              "      <td>Boiler Emissions- Total SO2 Emissions</td>\n",
              "      <td>Number per km2</td>\n",
              "      <td>number</td>\n",
              "      <td>UHF42</td>\n",
              "      <td>409.0</td>\n",
              "      <td>Southeast Queens</td>\n",
              "      <td>2015</td>\n",
              "      <td>01/01/2015</td>\n",
              "      <td>0.3</td>\n",
              "      <td>NaN</td>\n",
              "    </tr>\n",
              "    <tr>\n",
              "      <th>1</th>\n",
              "      <td>179785</td>\n",
              "      <td>640</td>\n",
              "      <td>Boiler Emissions- Total SO2 Emissions</td>\n",
              "      <td>Number per km2</td>\n",
              "      <td>number</td>\n",
              "      <td>UHF42</td>\n",
              "      <td>209.0</td>\n",
              "      <td>Bensonhurst - Bay Ridge</td>\n",
              "      <td>2015</td>\n",
              "      <td>01/01/2015</td>\n",
              "      <td>1.2</td>\n",
              "      <td>NaN</td>\n",
              "    </tr>\n",
              "    <tr>\n",
              "      <th>2</th>\n",
              "      <td>178540</td>\n",
              "      <td>365</td>\n",
              "      <td>Fine particles (PM 2.5)</td>\n",
              "      <td>Mean</td>\n",
              "      <td>mcg/m3</td>\n",
              "      <td>UHF42</td>\n",
              "      <td>209.0</td>\n",
              "      <td>Bensonhurst - Bay Ridge</td>\n",
              "      <td>Annual Average 2012</td>\n",
              "      <td>12/01/2011</td>\n",
              "      <td>8.6</td>\n",
              "      <td>NaN</td>\n",
              "    </tr>\n",
              "    <tr>\n",
              "      <th>3</th>\n",
              "      <td>178561</td>\n",
              "      <td>365</td>\n",
              "      <td>Fine particles (PM 2.5)</td>\n",
              "      <td>Mean</td>\n",
              "      <td>mcg/m3</td>\n",
              "      <td>UHF42</td>\n",
              "      <td>409.0</td>\n",
              "      <td>Southeast Queens</td>\n",
              "      <td>Annual Average 2012</td>\n",
              "      <td>12/01/2011</td>\n",
              "      <td>8.0</td>\n",
              "      <td>NaN</td>\n",
              "    </tr>\n",
              "    <tr>\n",
              "      <th>4</th>\n",
              "      <td>823217</td>\n",
              "      <td>365</td>\n",
              "      <td>Fine particles (PM 2.5)</td>\n",
              "      <td>Mean</td>\n",
              "      <td>mcg/m3</td>\n",
              "      <td>UHF42</td>\n",
              "      <td>409.0</td>\n",
              "      <td>Southeast Queens</td>\n",
              "      <td>Summer 2022</td>\n",
              "      <td>06/01/2022</td>\n",
              "      <td>6.1</td>\n",
              "      <td>NaN</td>\n",
              "    </tr>\n",
              "  </tbody>\n",
              "</table>\n",
              "</div>\n",
              "    <div class=\"colab-df-buttons\">\n",
              "\n",
              "  <div class=\"colab-df-container\">\n",
              "    <button class=\"colab-df-convert\" onclick=\"convertToInteractive('df-df1623ab-b16e-4df8-bfcc-cf1ccd952cbb')\"\n",
              "            title=\"Convert this dataframe to an interactive table.\"\n",
              "            style=\"display:none;\">\n",
              "\n",
              "  <svg xmlns=\"http://www.w3.org/2000/svg\" height=\"24px\" viewBox=\"0 -960 960 960\">\n",
              "    <path d=\"M120-120v-720h720v720H120Zm60-500h600v-160H180v160Zm220 220h160v-160H400v160Zm0 220h160v-160H400v160ZM180-400h160v-160H180v160Zm440 0h160v-160H620v160ZM180-180h160v-160H180v160Zm440 0h160v-160H620v160Z\"/>\n",
              "  </svg>\n",
              "    </button>\n",
              "\n",
              "  <style>\n",
              "    .colab-df-container {\n",
              "      display:flex;\n",
              "      gap: 12px;\n",
              "    }\n",
              "\n",
              "    .colab-df-convert {\n",
              "      background-color: #E8F0FE;\n",
              "      border: none;\n",
              "      border-radius: 50%;\n",
              "      cursor: pointer;\n",
              "      display: none;\n",
              "      fill: #1967D2;\n",
              "      height: 32px;\n",
              "      padding: 0 0 0 0;\n",
              "      width: 32px;\n",
              "    }\n",
              "\n",
              "    .colab-df-convert:hover {\n",
              "      background-color: #E2EBFA;\n",
              "      box-shadow: 0px 1px 2px rgba(60, 64, 67, 0.3), 0px 1px 3px 1px rgba(60, 64, 67, 0.15);\n",
              "      fill: #174EA6;\n",
              "    }\n",
              "\n",
              "    .colab-df-buttons div {\n",
              "      margin-bottom: 4px;\n",
              "    }\n",
              "\n",
              "    [theme=dark] .colab-df-convert {\n",
              "      background-color: #3B4455;\n",
              "      fill: #D2E3FC;\n",
              "    }\n",
              "\n",
              "    [theme=dark] .colab-df-convert:hover {\n",
              "      background-color: #434B5C;\n",
              "      box-shadow: 0px 1px 3px 1px rgba(0, 0, 0, 0.15);\n",
              "      filter: drop-shadow(0px 1px 2px rgba(0, 0, 0, 0.3));\n",
              "      fill: #FFFFFF;\n",
              "    }\n",
              "  </style>\n",
              "\n",
              "    <script>\n",
              "      const buttonEl =\n",
              "        document.querySelector('#df-df1623ab-b16e-4df8-bfcc-cf1ccd952cbb button.colab-df-convert');\n",
              "      buttonEl.style.display =\n",
              "        google.colab.kernel.accessAllowed ? 'block' : 'none';\n",
              "\n",
              "      async function convertToInteractive(key) {\n",
              "        const element = document.querySelector('#df-df1623ab-b16e-4df8-bfcc-cf1ccd952cbb');\n",
              "        const dataTable =\n",
              "          await google.colab.kernel.invokeFunction('convertToInteractive',\n",
              "                                                    [key], {});\n",
              "        if (!dataTable) return;\n",
              "\n",
              "        const docLinkHtml = 'Like what you see? Visit the ' +\n",
              "          '<a target=\"_blank\" href=https://colab.research.google.com/notebooks/data_table.ipynb>data table notebook</a>'\n",
              "          + ' to learn more about interactive tables.';\n",
              "        element.innerHTML = '';\n",
              "        dataTable['output_type'] = 'display_data';\n",
              "        await google.colab.output.renderOutput(dataTable, element);\n",
              "        const docLink = document.createElement('div');\n",
              "        docLink.innerHTML = docLinkHtml;\n",
              "        element.appendChild(docLink);\n",
              "      }\n",
              "    </script>\n",
              "  </div>\n",
              "\n",
              "\n",
              "<div id=\"df-369478a6-2e31-4058-9f56-96fe372dbba6\">\n",
              "  <button class=\"colab-df-quickchart\" onclick=\"quickchart('df-369478a6-2e31-4058-9f56-96fe372dbba6')\"\n",
              "            title=\"Suggest charts\"\n",
              "            style=\"display:none;\">\n",
              "\n",
              "<svg xmlns=\"http://www.w3.org/2000/svg\" height=\"24px\"viewBox=\"0 0 24 24\"\n",
              "     width=\"24px\">\n",
              "    <g>\n",
              "        <path d=\"M19 3H5c-1.1 0-2 .9-2 2v14c0 1.1.9 2 2 2h14c1.1 0 2-.9 2-2V5c0-1.1-.9-2-2-2zM9 17H7v-7h2v7zm4 0h-2V7h2v10zm4 0h-2v-4h2v4z\"/>\n",
              "    </g>\n",
              "</svg>\n",
              "  </button>\n",
              "\n",
              "<style>\n",
              "  .colab-df-quickchart {\n",
              "      --bg-color: #E8F0FE;\n",
              "      --fill-color: #1967D2;\n",
              "      --hover-bg-color: #E2EBFA;\n",
              "      --hover-fill-color: #174EA6;\n",
              "      --disabled-fill-color: #AAA;\n",
              "      --disabled-bg-color: #DDD;\n",
              "  }\n",
              "\n",
              "  [theme=dark] .colab-df-quickchart {\n",
              "      --bg-color: #3B4455;\n",
              "      --fill-color: #D2E3FC;\n",
              "      --hover-bg-color: #434B5C;\n",
              "      --hover-fill-color: #FFFFFF;\n",
              "      --disabled-bg-color: #3B4455;\n",
              "      --disabled-fill-color: #666;\n",
              "  }\n",
              "\n",
              "  .colab-df-quickchart {\n",
              "    background-color: var(--bg-color);\n",
              "    border: none;\n",
              "    border-radius: 50%;\n",
              "    cursor: pointer;\n",
              "    display: none;\n",
              "    fill: var(--fill-color);\n",
              "    height: 32px;\n",
              "    padding: 0;\n",
              "    width: 32px;\n",
              "  }\n",
              "\n",
              "  .colab-df-quickchart:hover {\n",
              "    background-color: var(--hover-bg-color);\n",
              "    box-shadow: 0 1px 2px rgba(60, 64, 67, 0.3), 0 1px 3px 1px rgba(60, 64, 67, 0.15);\n",
              "    fill: var(--button-hover-fill-color);\n",
              "  }\n",
              "\n",
              "  .colab-df-quickchart-complete:disabled,\n",
              "  .colab-df-quickchart-complete:disabled:hover {\n",
              "    background-color: var(--disabled-bg-color);\n",
              "    fill: var(--disabled-fill-color);\n",
              "    box-shadow: none;\n",
              "  }\n",
              "\n",
              "  .colab-df-spinner {\n",
              "    border: 2px solid var(--fill-color);\n",
              "    border-color: transparent;\n",
              "    border-bottom-color: var(--fill-color);\n",
              "    animation:\n",
              "      spin 1s steps(1) infinite;\n",
              "  }\n",
              "\n",
              "  @keyframes spin {\n",
              "    0% {\n",
              "      border-color: transparent;\n",
              "      border-bottom-color: var(--fill-color);\n",
              "      border-left-color: var(--fill-color);\n",
              "    }\n",
              "    20% {\n",
              "      border-color: transparent;\n",
              "      border-left-color: var(--fill-color);\n",
              "      border-top-color: var(--fill-color);\n",
              "    }\n",
              "    30% {\n",
              "      border-color: transparent;\n",
              "      border-left-color: var(--fill-color);\n",
              "      border-top-color: var(--fill-color);\n",
              "      border-right-color: var(--fill-color);\n",
              "    }\n",
              "    40% {\n",
              "      border-color: transparent;\n",
              "      border-right-color: var(--fill-color);\n",
              "      border-top-color: var(--fill-color);\n",
              "    }\n",
              "    60% {\n",
              "      border-color: transparent;\n",
              "      border-right-color: var(--fill-color);\n",
              "    }\n",
              "    80% {\n",
              "      border-color: transparent;\n",
              "      border-right-color: var(--fill-color);\n",
              "      border-bottom-color: var(--fill-color);\n",
              "    }\n",
              "    90% {\n",
              "      border-color: transparent;\n",
              "      border-bottom-color: var(--fill-color);\n",
              "    }\n",
              "  }\n",
              "</style>\n",
              "\n",
              "  <script>\n",
              "    async function quickchart(key) {\n",
              "      const quickchartButtonEl =\n",
              "        document.querySelector('#' + key + ' button');\n",
              "      quickchartButtonEl.disabled = true;  // To prevent multiple clicks.\n",
              "      quickchartButtonEl.classList.add('colab-df-spinner');\n",
              "      try {\n",
              "        const charts = await google.colab.kernel.invokeFunction(\n",
              "            'suggestCharts', [key], {});\n",
              "      } catch (error) {\n",
              "        console.error('Error during call to suggestCharts:', error);\n",
              "      }\n",
              "      quickchartButtonEl.classList.remove('colab-df-spinner');\n",
              "      quickchartButtonEl.classList.add('colab-df-quickchart-complete');\n",
              "    }\n",
              "    (() => {\n",
              "      let quickchartButtonEl =\n",
              "        document.querySelector('#df-369478a6-2e31-4058-9f56-96fe372dbba6 button');\n",
              "      quickchartButtonEl.style.display =\n",
              "        google.colab.kernel.accessAllowed ? 'block' : 'none';\n",
              "    })();\n",
              "  </script>\n",
              "</div>\n",
              "\n",
              "    </div>\n",
              "  </div>\n"
            ],
            "application/vnd.google.colaboratory.intrinsic+json": {
              "type": "dataframe",
              "variable_name": "df",
              "summary": "{\n  \"name\": \"df\",\n  \"rows\": 18025,\n  \"fields\": [\n    {\n      \"column\": \"Unique ID\",\n      \"properties\": {\n        \"dtype\": \"number\",\n        \"std\": 250489,\n        \"min\": 121644,\n        \"max\": 828353,\n        \"num_unique_values\": 18025,\n        \"samples\": [\n          175358,\n          168467,\n          165951\n        ],\n        \"semantic_type\": \"\",\n        \"description\": \"\"\n      }\n    },\n    {\n      \"column\": \"Indicator ID\",\n      \"properties\": {\n        \"dtype\": \"number\",\n        \"std\": 115,\n        \"min\": 365,\n        \"max\": 661,\n        \"num_unique_values\": 21,\n        \"samples\": [\n          640,\n          639,\n          651\n        ],\n        \"semantic_type\": \"\",\n        \"description\": \"\"\n      }\n    },\n    {\n      \"column\": \"Name\",\n      \"properties\": {\n        \"dtype\": \"category\",\n        \"num_unique_values\": 18,\n        \"samples\": [\n          \"Boiler Emissions- Total SO2 Emissions\",\n          \"Fine particles (PM 2.5)\",\n          \"Boiler Emissions- Total NOx Emissions\"\n        ],\n        \"semantic_type\": \"\",\n        \"description\": \"\"\n      }\n    },\n    {\n      \"column\": \"Measure\",\n      \"properties\": {\n        \"dtype\": \"category\",\n        \"num_unique_values\": 8,\n        \"samples\": [\n          \"Mean\",\n          \"Estimated annual rate\",\n          \"Number per km2\"\n        ],\n        \"semantic_type\": \"\",\n        \"description\": \"\"\n      }\n    },\n    {\n      \"column\": \"Measure Info\",\n      \"properties\": {\n        \"dtype\": \"category\",\n        \"num_unique_values\": 8,\n        \"samples\": [\n          \"mcg/m3\",\n          \"per 100,000 adults\",\n          \"number\"\n        ],\n        \"semantic_type\": \"\",\n        \"description\": \"\"\n      }\n    },\n    {\n      \"column\": \"Geo Type Name\",\n      \"properties\": {\n        \"dtype\": \"category\",\n        \"num_unique_values\": 5,\n        \"samples\": [\n          \"UHF34\",\n          \"Citywide\",\n          \"Borough\"\n        ],\n        \"semantic_type\": \"\",\n        \"description\": \"\"\n      }\n    },\n    {\n      \"column\": \"Geo Join ID\",\n      \"properties\": {\n        \"dtype\": \"number\",\n        \"std\": 7769548.794983287,\n        \"min\": 1.0,\n        \"max\": 105106107.0,\n        \"num_unique_values\": 72,\n        \"samples\": [\n          211.0,\n          501502.0,\n          102.0\n        ],\n        \"semantic_type\": \"\",\n        \"description\": \"\"\n      }\n    },\n    {\n      \"column\": \"Geo Place Name\",\n      \"properties\": {\n        \"dtype\": \"category\",\n        \"num_unique_values\": 114,\n        \"samples\": [\n          \"Fordham and University Heights (CD5)\",\n          \"Williamsburg - Bushwick\",\n          \"Upper East Side (CD8)\"\n        ],\n        \"semantic_type\": \"\",\n        \"description\": \"\"\n      }\n    },\n    {\n      \"column\": \"Time Period\",\n      \"properties\": {\n        \"dtype\": \"category\",\n        \"num_unique_values\": 55,\n        \"samples\": [\n          \"Summer 2019\",\n          \"Summer 2021\",\n          \"Annual Average 2020\"\n        ],\n        \"semantic_type\": \"\",\n        \"description\": \"\"\n      }\n    },\n    {\n      \"column\": \"Start_Date\",\n      \"properties\": {\n        \"dtype\": \"object\",\n        \"num_unique_values\": 43,\n        \"samples\": [\n          \"06/01/2017\",\n          \"06/01/2015\",\n          \"01/01/2009\"\n        ],\n        \"semantic_type\": \"\",\n        \"description\": \"\"\n      }\n    },\n    {\n      \"column\": \"Data Value\",\n      \"properties\": {\n        \"dtype\": \"number\",\n        \"std\": 23.999345285265907,\n        \"min\": 0.0,\n        \"max\": 424.7,\n        \"num_unique_values\": 1147,\n        \"samples\": [\n          31.9,\n          64.2,\n          225.0\n        ],\n        \"semantic_type\": \"\",\n        \"description\": \"\"\n      }\n    },\n    {\n      \"column\": \"Message\",\n      \"properties\": {\n        \"dtype\": \"number\",\n        \"std\": null,\n        \"min\": null,\n        \"max\": null,\n        \"num_unique_values\": 0,\n        \"samples\": [],\n        \"semantic_type\": \"\",\n        \"description\": \"\"\n      }\n    }\n  ]\n}"
            }
          },
          "metadata": {},
          "execution_count": 33
        }
      ]
    },
    {
      "cell_type": "code",
      "source": [
        "df.isnull().sum()"
      ],
      "metadata": {
        "colab": {
          "base_uri": "https://localhost:8080/",
          "height": 460
        },
        "id": "ppHiis6gBGwU",
        "outputId": "95b67cc1-9d93-4073-97ca-e5c1b1ee9bc4"
      },
      "execution_count": null,
      "outputs": [
        {
          "output_type": "execute_result",
          "data": {
            "text/plain": [
              "Unique ID             0\n",
              "Indicator ID          0\n",
              "Name                  0\n",
              "Measure               0\n",
              "Measure Info          0\n",
              "Geo Type Name         0\n",
              "Geo Join ID           9\n",
              "Geo Place Name        9\n",
              "Time Period           0\n",
              "Start_Date            0\n",
              "Data Value            0\n",
              "Message           18025\n",
              "dtype: int64"
            ],
            "text/html": [
              "<div>\n",
              "<style scoped>\n",
              "    .dataframe tbody tr th:only-of-type {\n",
              "        vertical-align: middle;\n",
              "    }\n",
              "\n",
              "    .dataframe tbody tr th {\n",
              "        vertical-align: top;\n",
              "    }\n",
              "\n",
              "    .dataframe thead th {\n",
              "        text-align: right;\n",
              "    }\n",
              "</style>\n",
              "<table border=\"1\" class=\"dataframe\">\n",
              "  <thead>\n",
              "    <tr style=\"text-align: right;\">\n",
              "      <th></th>\n",
              "      <th>0</th>\n",
              "    </tr>\n",
              "  </thead>\n",
              "  <tbody>\n",
              "    <tr>\n",
              "      <th>Unique ID</th>\n",
              "      <td>0</td>\n",
              "    </tr>\n",
              "    <tr>\n",
              "      <th>Indicator ID</th>\n",
              "      <td>0</td>\n",
              "    </tr>\n",
              "    <tr>\n",
              "      <th>Name</th>\n",
              "      <td>0</td>\n",
              "    </tr>\n",
              "    <tr>\n",
              "      <th>Measure</th>\n",
              "      <td>0</td>\n",
              "    </tr>\n",
              "    <tr>\n",
              "      <th>Measure Info</th>\n",
              "      <td>0</td>\n",
              "    </tr>\n",
              "    <tr>\n",
              "      <th>Geo Type Name</th>\n",
              "      <td>0</td>\n",
              "    </tr>\n",
              "    <tr>\n",
              "      <th>Geo Join ID</th>\n",
              "      <td>9</td>\n",
              "    </tr>\n",
              "    <tr>\n",
              "      <th>Geo Place Name</th>\n",
              "      <td>9</td>\n",
              "    </tr>\n",
              "    <tr>\n",
              "      <th>Time Period</th>\n",
              "      <td>0</td>\n",
              "    </tr>\n",
              "    <tr>\n",
              "      <th>Start_Date</th>\n",
              "      <td>0</td>\n",
              "    </tr>\n",
              "    <tr>\n",
              "      <th>Data Value</th>\n",
              "      <td>0</td>\n",
              "    </tr>\n",
              "    <tr>\n",
              "      <th>Message</th>\n",
              "      <td>18025</td>\n",
              "    </tr>\n",
              "  </tbody>\n",
              "</table>\n",
              "</div><br><label><b>dtype:</b> int64</label>"
            ]
          },
          "metadata": {},
          "execution_count": 25
        }
      ]
    },
    {
      "cell_type": "code",
      "source": [
        "# ##############################\n",
        "# 2. Handling Missing Values\n",
        "# ##############################\n",
        "\n",
        "print(\"\\n## Handling Missing Values ##\")\n",
        "\n",
        "# Replace missing 'Data Value' with the median value\n",
        "if 'Data Value' in df.columns:\n",
        "    df['Data Value'].fillna(df['Data Value'].median(), inplace=True)\n",
        "    print(\"\\nReplaced missing 'Data Value' with median:\")\n",
        "    print(df['Data Value'].head())\n",
        "\n"
      ],
      "metadata": {
        "colab": {
          "base_uri": "https://localhost:8080/"
        },
        "id": "j5mRc9Xu3Jxs",
        "outputId": "5a181a01-db17-4ed6-998b-c56da02f2a5d"
      },
      "execution_count": null,
      "outputs": [
        {
          "output_type": "stream",
          "name": "stdout",
          "text": [
            "\n",
            "## Handling Missing Values ##\n",
            "\n",
            "Replaced missing 'Data Value' with median:\n",
            "0    0.3\n",
            "1    1.2\n",
            "2    8.6\n",
            "3    8.0\n",
            "4    6.1\n",
            "Name: Data Value, dtype: float64\n"
          ]
        },
        {
          "output_type": "stream",
          "name": "stderr",
          "text": [
            "<ipython-input-23-b3d3246c9752>:9: FutureWarning: A value is trying to be set on a copy of a DataFrame or Series through chained assignment using an inplace method.\n",
            "The behavior will change in pandas 3.0. This inplace method will never work because the intermediate object on which we are setting values always behaves as a copy.\n",
            "\n",
            "For example, when doing 'df[col].method(value, inplace=True)', try using 'df.method({col: value}, inplace=True)' or df[col] = df[col].method(value) instead, to perform the operation inplace on the original object.\n",
            "\n",
            "\n",
            "  df['Data Value'].fillna(df['Data Value'].median(), inplace=True)\n"
          ]
        }
      ]
    },
    {
      "cell_type": "code",
      "source": [
        "df.shape"
      ],
      "metadata": {
        "colab": {
          "base_uri": "https://localhost:8080/"
        },
        "id": "WyFK5TvM7yhJ",
        "outputId": "75822845-7338-4abf-937f-9539c2861e03"
      },
      "execution_count": null,
      "outputs": [
        {
          "output_type": "execute_result",
          "data": {
            "text/plain": [
              "(18025, 12)"
            ]
          },
          "metadata": {},
          "execution_count": 27
        }
      ]
    },
    {
      "cell_type": "code",
      "source": [
        "# Drop rows where essential columns (e.g., 'Name' or 'Time Period') are missing\n",
        "essential_columns = ['Name', 'Time Period']\n",
        "df_cleaned = df.dropna(subset=essential_columns)\n",
        "print(f\"\\nDropped rows with missing values in {essential_columns}. Current shape: {df_cleaned.shape}\")\n"
      ],
      "metadata": {
        "colab": {
          "base_uri": "https://localhost:8080/"
        },
        "id": "OfB5030b3Y21",
        "outputId": "2e0d4e90-fd58-43dd-dab0-1e076dc55415"
      },
      "execution_count": null,
      "outputs": [
        {
          "output_type": "stream",
          "name": "stdout",
          "text": [
            "\n",
            "Dropped rows with missing values in ['Name', 'Time Period']. Current shape: (18025, 12)\n"
          ]
        }
      ]
    },
    {
      "cell_type": "code",
      "source": [
        "df_cleaned.columns"
      ],
      "metadata": {
        "colab": {
          "base_uri": "https://localhost:8080/"
        },
        "id": "uxkxEoqg0OAs",
        "outputId": "e61c9f9d-84e0-43ad-a128-14e7d8b3ea24"
      },
      "execution_count": null,
      "outputs": [
        {
          "output_type": "execute_result",
          "data": {
            "text/plain": [
              "Index(['Unique ID', 'Indicator ID', 'Name', 'Measure', 'Measure Info',\n",
              "       'Region Type', 'Geo Join ID', 'Region Name', 'Year', 'Start_Date',\n",
              "       'Measurement', 'Message'],\n",
              "      dtype='object')"
            ]
          },
          "metadata": {},
          "execution_count": 30
        }
      ]
    },
    {
      "cell_type": "code",
      "source": [
        "# ##############################\n",
        "# 3. Renaming Columns for Clarity\n",
        "# ##############################\n",
        "\n",
        "print(\"\\n## Renaming Columns ##\")\n",
        "\n",
        "# Rename ambiguous column names for clarity\n",
        "df_cleaned.rename(columns={\n",
        "    'Data Value': 'Measurement',\n",
        "    'Geo Type Name': 'Region Type',\n",
        "    'Geo Place Name': 'Region Name',\n",
        "    'Time Period': 'Year',\n",
        "}, inplace=True)\n",
        "\n",
        "print(\"\\nRenamed Columns:\")\n",
        "print(df_cleaned.columns)\n"
      ],
      "metadata": {
        "colab": {
          "base_uri": "https://localhost:8080/"
        },
        "id": "9WoBSzAo3bI7",
        "outputId": "192f734f-cbcf-4e27-c78b-1ff4f7165fcd"
      },
      "execution_count": null,
      "outputs": [
        {
          "output_type": "stream",
          "name": "stdout",
          "text": [
            "\n",
            "## Renaming Columns ##\n",
            "\n",
            "Renamed Columns:\n",
            "Index(['Unique ID', 'Indicator ID', 'Name', 'Measure', 'Measure Info',\n",
            "       'Region Type', 'Geo Join ID', 'Region Name', 'Year', 'Start_Date',\n",
            "       'Measurement', 'Message'],\n",
            "      dtype='object')\n"
          ]
        }
      ]
    },
    {
      "cell_type": "code",
      "source": [
        "df_cleaned.columns"
      ],
      "metadata": {
        "colab": {
          "base_uri": "https://localhost:8080/"
        },
        "id": "h095iv_f0Qv4",
        "outputId": "eb8f4196-1cd8-4112-e42a-db74595eec60"
      },
      "execution_count": null,
      "outputs": [
        {
          "output_type": "execute_result",
          "data": {
            "text/plain": [
              "Index(['Unique ID', 'Indicator ID', 'Name', 'Measure', 'Measure Info',\n",
              "       'Geo Type Name', 'Geo Join ID', 'Geo Place Name', 'Time Period',\n",
              "       'Start_Date', 'Data Value', 'Message'],\n",
              "      dtype='object')"
            ]
          },
          "metadata": {},
          "execution_count": 28
        }
      ]
    },
    {
      "cell_type": "code",
      "source": [
        "df_cleaned['Start_Date_1'] = pd.to_datetime(df_cleaned['Start_Date'])"
      ],
      "metadata": {
        "id": "GOungkIa08Py"
      },
      "execution_count": null,
      "outputs": []
    },
    {
      "cell_type": "code",
      "source": [
        "type(df_cleaned[\"Start_Date_1\"][1])"
      ],
      "metadata": {
        "colab": {
          "base_uri": "https://localhost:8080/"
        },
        "id": "qkevAdIK0oc6",
        "outputId": "34193070-d797-4986-9618-a634aea32197"
      },
      "execution_count": null,
      "outputs": [
        {
          "output_type": "execute_result",
          "data": {
            "text/plain": [
              "pandas._libs.tslibs.timestamps.Timestamp"
            ]
          },
          "metadata": {},
          "execution_count": 36
        }
      ]
    },
    {
      "cell_type": "code",
      "source": [
        "# ##############################\n",
        "# 4. Parsing Dates\n",
        "# ##############################\n",
        "\n",
        "print(\"\\n## Parsing Dates ##\")\n",
        "\n",
        "# Convert 'Start_Date' to datetime format and extract Year/Month\n",
        "if 'Start_Date' in df_cleaned.columns:\n",
        "    df_cleaned['Start_Date'] = pd.to_datetime(df_cleaned['Start_Date'])\n",
        "    df_cleaned['Year'] = df_cleaned['Start_Date'].dt.year\n",
        "    df_cleaned['Month'] = df_cleaned['Start_Date'].dt.month\n",
        "\n",
        "print(\"\\nExtracted 'Year' and 'Month' from 'Start_Date':\")\n",
        "print(df_cleaned[['Start_Date', 'Year', 'Month']].head())\n"
      ],
      "metadata": {
        "colab": {
          "base_uri": "https://localhost:8080/"
        },
        "id": "G9Jlloaq3dF8",
        "outputId": "6ecffb55-7656-4e1b-d835-39a2aa7d994e"
      },
      "execution_count": null,
      "outputs": [
        {
          "output_type": "stream",
          "name": "stdout",
          "text": [
            "\n",
            "## Parsing Dates ##\n",
            "\n",
            "Extracted 'Year' and 'Month' from 'Start_Date':\n",
            "  Start_Date  Year  Month\n",
            "0 2015-01-01  2015      1\n",
            "1 2015-01-01  2015      1\n",
            "2 2011-12-01  2011     12\n",
            "3 2011-12-01  2011     12\n",
            "4 2022-06-01  2022      6\n"
          ]
        }
      ]
    },
    {
      "cell_type": "code",
      "source": [
        "# Check if 'Measurement' column exists in the DataFrame\n",
        "if 'Measurement' in df_cleaned.columns:\n",
        "    # Calculate the first quartile (25th percentile) of the 'Measurement' column\n",
        "    Q1 = df_cleaned['Measurement'].quantile(0.25)\n",
        "\n",
        "    # Calculate the third quartile (75th percentile) of the 'Measurement' column\n",
        "    Q3 = df_cleaned['Measurement'].quantile(0.75)\n",
        "\n",
        "    # Compute the Interquartile Range (IQR), which is the difference between Q3 and Q1\n",
        "    IQR = Q3 - Q1\n",
        "\n",
        "    # Define the lower bound for acceptable values (1.5 times the IQR below Q1)\n",
        "    lower_bound = Q1 - 1.5 * IQR\n",
        "\n",
        "    # Define the upper bound for acceptable values (1.5 times the IQR above Q3)\n",
        "    upper_bound = Q3 + 1.5 * IQR\n",
        "\n",
        "    # Filter the DataFrame to include only rows where 'Measurement' values are within the bounds\n",
        "    df_cleaned = df_cleaned[(df_cleaned['Measurement'] >= lower_bound) & (df_cleaned['Measurement'] <= upper_bound)]\n",
        "\n",
        "    # Print the shape of the DataFrame after removing outliers\n",
        "    print(f\"Shape after removing outliers in 'Measurement': {df_cleaned.shape}\")"
      ],
      "metadata": {
        "id": "WP-PmqRJ1Xv1"
      },
      "execution_count": null,
      "outputs": []
    },
    {
      "cell_type": "code",
      "source": [
        "# ##############################\n",
        "# 6. Handling Outliers\n",
        "# ##############################\n",
        "\n",
        "print(\"\\n## Handling Outliers ##\")\n",
        "\n",
        "# Detect and remove outliers in 'Measurement' using IQR\n",
        "if 'Measurement' in df_cleaned.columns:\n",
        "    Q1 = df_cleaned['Measurement'].quantile(0.25)\n",
        "    Q3 = df_cleaned['Measurement'].quantile(0.75)\n",
        "    IQR = Q3 - Q1\n",
        "    lower_bound = Q1 - 1.5 * IQR\n",
        "    upper_bound = Q3 + 1.5 * IQR\n",
        "\n",
        "    # Filter rows within acceptable bounds\n",
        "    df_cleaned = df_cleaned[(df_cleaned['Measurement'] >= lower_bound) & (df_cleaned['Measurement'] <= upper_bound)]\n",
        "    print(f\"Shape after removing outliers in 'Measurement': {df_cleaned.shape}\")\n",
        "\n"
      ],
      "metadata": {
        "colab": {
          "base_uri": "https://localhost:8080/"
        },
        "id": "lWnRzUf33fba",
        "outputId": "1d956232-18eb-4b39-ffc3-228ef708d324"
      },
      "execution_count": null,
      "outputs": [
        {
          "output_type": "stream",
          "name": "stdout",
          "text": [
            "\n",
            "## Handling Outliers ##\n",
            "Shape after removing outliers in 'Measurement': (17045, 14)\n"
          ]
        }
      ]
    },
    {
      "cell_type": "code",
      "source": [
        "# ##############################\n",
        "# 7. Data Normalization\n",
        "# ##############################\n",
        "\n",
        "print(\"\\n## Data Normalization ##\")\n",
        "\n",
        "# Normalize 'Measurement' column to range [0, 1]\n",
        "if 'Measurement' in df_cleaned.columns:\n",
        "    df_cleaned['Measurement_Normalized'] = (df_cleaned['Measurement'] - df_cleaned['Measurement'].min()) / (df_cleaned['Measurement'].max() - df_cleaned['Measurement'].min())\n",
        "    print(\"\\nNormalized 'Measurement' Values:\")\n",
        "    print(df_cleaned[['Measurement', 'Measurement_Normalized']].head())\n"
      ],
      "metadata": {
        "colab": {
          "base_uri": "https://localhost:8080/"
        },
        "id": "ygawaeR951jn",
        "outputId": "d2402d73-b95b-4636-fe6b-0f30eba07692"
      },
      "execution_count": null,
      "outputs": [
        {
          "output_type": "stream",
          "name": "stdout",
          "text": [
            "\n",
            "## Data Normalization ##\n",
            "\n",
            "Normalized 'Measurement' Values:\n",
            "   Measurement  Measurement_Normalized\n",
            "0          0.3                0.005639\n",
            "1          1.2                0.022556\n",
            "2          8.6                0.161654\n",
            "3          8.0                0.150376\n",
            "4          6.1                0.114662\n"
          ]
        }
      ]
    },
    {
      "cell_type": "code",
      "source": [
        "# ##############################\n",
        "# 8. Grouping and Aggregation\n",
        "# ##############################\n",
        "\n",
        "print(\"\\n## Grouping and Aggregation ##\")\n",
        "\n",
        "# Group by Region Name and calculate the average measurement\n",
        "if 'Region Name' in df_cleaned.columns:\n",
        "    avg_measurement_by_region = df_cleaned.groupby('Region Name')['Measurement'].mean()\n",
        "    print(\"\\nAverage Measurement by Region:\")\n",
        "    print(avg_measurement_by_region.head(10))\n"
      ],
      "metadata": {
        "colab": {
          "base_uri": "https://localhost:8080/"
        },
        "id": "SD2PvFSt3ihS",
        "outputId": "6e7b091b-d6ca-43f2-a256-1966783f9ac3"
      },
      "execution_count": null,
      "outputs": [
        {
          "output_type": "stream",
          "name": "stdout",
          "text": [
            "\n",
            "## Grouping and Aggregation ##\n",
            "\n",
            "Average Measurement by Region:\n",
            "Region Name\n",
            "Bay Ridge and Dyker Heights (CD10)    15.880769\n",
            "Bayside - Little Neck                 13.196341\n",
            "Bayside Little Neck-Fresh Meadows     15.822222\n",
            "Bayside and Little Neck (CD11)        15.065385\n",
            "Bedford Stuyvesant (CD3)              17.246667\n",
            "Bedford Stuyvesant - Crown Heights    17.053527\n",
            "Belmont and East Tremont (CD6)        16.978846\n",
            "Bensonhurst (CD11)                    17.238182\n",
            "Bensonhurst - Bay Ridge               15.274144\n",
            "Borough Park                          15.622901\n",
            "Name: Measurement, dtype: float64\n"
          ]
        }
      ]
    },
    {
      "cell_type": "code",
      "source": [
        "# ##############################\n",
        "# 9. Visualization\n",
        "# ##############################\n",
        "\n",
        "print(\"\\n## Visualization ##\")\n",
        "\n",
        "# Plot average measurement by year\n",
        "if 'Year' in df_cleaned.columns and 'Measurement' in df_cleaned.columns:\n",
        "    avg_measurement_by_year = df_cleaned.groupby('Year')['Measurement'].mean()\n",
        "    avg_measurement_by_year.plot(kind='line', title='Average Measurement by Year', color='blue')\n",
        "    plt.ylabel('Average Measurement')\n",
        "    plt.xlabel('Year')\n",
        "    plt.show()\n",
        "\n",
        "# Plot histogram of normalized measurements\n",
        "if 'Measurement_Normalized' in df_cleaned.columns:\n",
        "    plt.hist(df_cleaned['Measurement_Normalized'], bins=20, color='green', edgecolor='black')\n",
        "    plt.title('Normalized Measurement Distribution')\n",
        "    plt.xlabel('Normalized Measurement')\n",
        "    plt.ylabel('Frequency')\n",
        "    plt.show()\n",
        "\n",
        "print(\"\\nData cleaning and visualization are complete!\")\n"
      ],
      "metadata": {
        "colab": {
          "base_uri": "https://localhost:8080/",
          "height": 998
        },
        "id": "02Hoek_43lKp",
        "outputId": "8bf77b60-6212-4325-bfa5-044f92774467"
      },
      "execution_count": null,
      "outputs": [
        {
          "output_type": "stream",
          "name": "stdout",
          "text": [
            "\n",
            "## Visualization ##\n"
          ]
        },
        {
          "output_type": "display_data",
          "data": {
            "text/plain": [
              "<Figure size 640x480 with 1 Axes>"
            ],
            "image/png": "[encoded data removed]"
          },
          "metadata": {}
        },
        {
          "output_type": "display_data",
          "data": {
            "text/plain": [
              "<Figure size 640x480 with 1 Axes>"
            ],
            "image/png": "[encoded data removed]"
          },
          "metadata": {}
        },
        {
          "output_type": "stream",
          "name": "stdout",
          "text": [
            "\n",
            "Data cleaning and visualization are complete!\n"
          ]
        }
      ]
    },
    {
      "cell_type": "code",
      "source": [],
      "metadata": {
        "id": "wKkrw2Rs6M2o"
      },
      "execution_count": null,
      "outputs": []
    }
  ]
}